{
 "cells": [
  {
   "cell_type": "markdown",
   "metadata": {},
   "source": [
    "### 00. 文字列の逆順"
   ]
  },
  {
   "cell_type": "code",
   "execution_count": 33,
   "metadata": {},
   "outputs": [
    {
     "name": "stdout",
     "output_type": "stream",
     "text": [
      "desserts\n"
     ]
    }
   ],
   "source": [
    "text = \"stressed\"\n",
    "print(text[::-1])"
   ]
  },
  {
   "cell_type": "markdown",
   "metadata": {},
   "source": [
    "### 01. 「パタトクカシーー」"
   ]
  },
  {
   "cell_type": "code",
   "execution_count": 34,
   "metadata": {},
   "outputs": [
    {
     "name": "stdout",
     "output_type": "stream",
     "text": [
      "パトカー\n"
     ]
    }
   ],
   "source": [
    "text = \"パタトクカシーー\"\n",
    "print(text[::2])"
   ]
  },
  {
   "cell_type": "markdown",
   "metadata": {},
   "source": [
    "### 02. 「パトカー」＋「タクシー」＝「パタトクカシーー」"
   ]
  },
  {
   "cell_type": "code",
   "execution_count": 36,
   "metadata": {},
   "outputs": [
    {
     "name": "stdout",
     "output_type": "stream",
     "text": [
      "パタトクカシーー\n"
     ]
    }
   ],
   "source": [
    "text0 = \"パトカー\"\n",
    "text1 = \"タクシー\"\n",
    "ans = \"\"\n",
    "for i in range (len(text0)):\n",
    "    ans += text0[i]\n",
    "    ans += text1[i]\n",
    "print(ans)"
   ]
  },
  {
   "cell_type": "markdown",
   "metadata": {},
   "source": [
    "### 03. 円周率"
   ]
  },
  {
   "cell_type": "code",
   "execution_count": 37,
   "metadata": {},
   "outputs": [
    {
     "name": "stdout",
     "output_type": "stream",
     "text": [
      "[3, 1, 4, 1, 5, 9, 2, 6, 5, 3, 5, 8, 9, 7, 9]\n"
     ]
    }
   ],
   "source": [
    "text = \"Now I need a drink, alcoholic of course, after the heavy lectures involving quantum mechanics.\"\n",
    "text_list = text.replace(\",\", \"\").replace(\".\", \"\")\n",
    "ans = [len(t) for t in text_list.split(\" \")]\n",
    "print(ans)"
   ]
  },
  {
   "cell_type": "markdown",
   "metadata": {},
   "source": [
    "### 04. 元素記号"
   ]
  },
  {
   "cell_type": "code",
   "execution_count": 39,
   "metadata": {},
   "outputs": [],
   "source": [
    "def extWord(i, word):\n",
    "    if i in [1, 5, 6, 7, 8, 9, 15, 16, 19]:\n",
    "        return (word[0], i)\n",
    "    else:\n",
    "        return (word[:2], i)"
   ]
  },
  {
   "cell_type": "code",
   "execution_count": 43,
   "metadata": {},
   "outputs": [
    {
     "name": "stdout",
     "output_type": "stream",
     "text": [
      "[('H', 1), ('He', 2), ('Li', 3), ('Be', 4), ('B', 5), ('C', 6), ('N', 7), ('O', 8), ('F', 9), ('Ne', 10), ('Na', 11), ('Mi', 12), ('Al', 13), ('Si', 14), ('P', 15), ('S', 16), ('Cl', 17), ('Ar', 18), ('K', 19), ('Ca', 20)]\n"
     ]
    }
   ],
   "source": [
    "text = \"Hi He Lied Because Boron Could Not Oxidize Fluorine. New Nations Might Also Sign Peace Security Clause. Arthur King Can.\"\n",
    "text_list = text.replace(\",\", \"\").replace(\".\", \"\")\n",
    "ans = [extWord(i, w) for i, w in enumerate(text_list.split(), 1)]\n",
    "print(ans)"
   ]
  },
  {
   "cell_type": "markdown",
   "metadata": {},
   "source": [
    "### 05. n-gram"
   ]
  },
  {
   "cell_type": "code",
   "execution_count": 53,
   "metadata": {},
   "outputs": [],
   "source": [
    "def n_gram(target, n):\n",
    "    return [ target[idx:idx + n] for idx in range(len(target) - n + 1) ]"
   ]
  },
  {
   "cell_type": "code",
   "execution_count": 69,
   "metadata": {},
   "outputs": [
    {
     "name": "stdout",
     "output_type": "stream",
     "text": [
      "word: [['I', 'am'], ['am', 'an'], ['an', 'NLPer']]\n",
      "letter: ['I ', ' a', 'am', 'm ', ' a', 'an', 'n ', ' N', 'NL', 'LP', 'Pe', 'er']\n"
     ]
    }
   ],
   "source": [
    "text = \"I am an NLPer\"\n",
    "text_list = text.replace(\",\", \"\").replace(\".\", \"\")\n",
    "\n",
    "print (f'word: {n_gram(text_list.split(\" \"), 2)}')\n",
    "print (f'letter: {n_gram(text, 2)}')"
   ]
  },
  {
   "cell_type": "markdown",
   "metadata": {},
   "source": [
    "### 06. 集合"
   ]
  },
  {
   "cell_type": "code",
   "execution_count": 84,
   "metadata": {},
   "outputs": [
    {
     "name": "stdout",
     "output_type": "stream",
     "text": [
      "和集合: {'ph', 'is', 'gr', 'ag', 'ap', 'ar', 'ad', 'ra', 'se', 'pa', 'di'}\n",
      "積集合: {'ra', 'pa', 'ap', 'ar'}\n",
      "差集合: {'is', 'se', 'ad', 'di'}\n",
      "se in X : True\n",
      "se in Y : False\n"
     ]
    }
   ],
   "source": [
    "text0 = \"paraparaparadise\"\n",
    "text = \"paragraph\"\n",
    "\n",
    "X = n_gram(text0, 2)\n",
    "Y = n_gram(text, 2)\n",
    "print(f'和集合: {set(X) | set(Y)}') #print(set(X+Y))\n",
    "print(f'積集合: {set(X) & set(Y)}')\n",
    "print(f'差集合: {set(X) - set(Y)}')\n",
    "print(f'se in X : {\"se\" in (set(X))}')\n",
    "print(f'se in Y : {\"se\" in (set(Y))}')"
   ]
  },
  {
   "cell_type": "markdown",
   "metadata": {},
   "source": [
    "### 07. テンプレートによる文生成"
   ]
  },
  {
   "cell_type": "code",
   "execution_count": 89,
   "metadata": {},
   "outputs": [],
   "source": [
    "def print_xyz(x, y, z):\n",
    "    print(f'{x}時の{y}は{z}')"
   ]
  },
  {
   "cell_type": "code",
   "execution_count": 90,
   "metadata": {},
   "outputs": [
    {
     "name": "stdout",
     "output_type": "stream",
     "text": [
      "12時の気温は22.4\n"
     ]
    }
   ],
   "source": [
    "x=12\n",
    "y=\"気温\"\n",
    "z=22.4\n",
    "print_xyz(x,y,z)"
   ]
  },
  {
   "cell_type": "markdown",
   "metadata": {},
   "source": [
    "### 08. 暗号文"
   ]
  },
  {
   "cell_type": "code",
   "execution_count": 100,
   "metadata": {},
   "outputs": [],
   "source": [
    "def cipher(text):\n",
    "    output = ''\n",
    "    for char in text:\n",
    "        if char.islower():\n",
    "            output += chr(219 - ord(char))\n",
    "        else:\n",
    "            output += char\n",
    "    return output"
   ]
  },
  {
   "cell_type": "code",
   "execution_count": 105,
   "metadata": {},
   "outputs": [],
   "source": [
    "def cipher(text):\n",
    "    text = [chr(219 - ord(w)) if 97 <= ord(w) <= 122 else w for w in text]\n",
    "    return ''.join(text)"
   ]
  },
  {
   "cell_type": "code",
   "execution_count": 106,
   "metadata": {},
   "outputs": [
    {
     "name": "stdout",
     "output_type": "stream",
     "text": [
      "Tsrh rh z kvm\n",
      "This is a pen\n"
     ]
    }
   ],
   "source": [
    "text = cipher('This is a pen')\n",
    "print(text)\n",
    "ans = cipher(text)\n",
    "print(ans)"
   ]
  },
  {
   "cell_type": "markdown",
   "metadata": {},
   "source": [
    "### 09. Typoglycemia"
   ]
  },
  {
   "cell_type": "code",
   "execution_count": 138,
   "metadata": {},
   "outputs": [],
   "source": [
    "import random\n",
    "def shuffle_text(word):\n",
    "    if len (word) <=4:\n",
    "        return word\n",
    "    else :\n",
    "        start = word[0]\n",
    "        end = word[-1]\n",
    "        mid = random.sample(list(word[1:-1]), len(word[1:-1]))\n",
    "        return ''.join([start] + mid + [end])"
   ]
  },
  {
   "cell_type": "code",
   "execution_count": 139,
   "metadata": {},
   "outputs": [
    {
     "name": "stdout",
     "output_type": "stream",
     "text": [
      "['I', 'cd’noult', 'beievle', 'that', 'I', 'cloud', 'aualtlcy', 'unnastdred', 'what', 'I', 'was', 'raideng', ':', 'the', 'peeannomhl', 'peowr', 'of', 'the', 'hmaun', 'mind', '.']\n"
     ]
    }
   ],
   "source": [
    "text = \"I couldn’t believe that I could actually understand what I was reading : the phenomenal power of the human mind .\"\n",
    "\n",
    "ans = [shuffle_text(word) for word in text.split()]\n",
    "print(ans)"
   ]
  },
  {
   "cell_type": "code",
   "execution_count": null,
   "metadata": {},
   "outputs": [],
   "source": []
  }
 ],
 "metadata": {
  "kernelspec": {
   "display_name": "Python 3",
   "language": "python",
   "name": "python3"
  },
  "language_info": {
   "codemirror_mode": {
    "name": "ipython",
    "version": 3
   },
   "file_extension": ".py",
   "mimetype": "text/x-python",
   "name": "python",
   "nbconvert_exporter": "python",
   "pygments_lexer": "ipython3",
   "version": "3.8.2"
  }
 },
 "nbformat": 4,
 "nbformat_minor": 4
}
