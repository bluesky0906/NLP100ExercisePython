{
 "cells": [
  {
   "cell_type": "code",
   "execution_count": null,
   "metadata": {},
   "outputs": [],
   "source": [
    "import pandas as pd\n",
    "import re\n",
    "import pprint\n",
    "path = 'data/chap3/jawiki-country.json.gz'"
   ]
  },
  {
   "cell_type": "markdown",
   "metadata": {},
   "source": [
    "### 20. JSONデータの読み込み"
   ]
  },
  {
   "cell_type": "code",
   "execution_count": null,
   "metadata": {},
   "outputs": [],
   "source": [
    "df = pd.read_json(path, lines=True)\n",
    "# values 要素だけを出してる\n",
    "uk = df.query('title==\"イギリス\"')['text'].values[0]\n",
    "print(uk[:1000])"
   ]
  },
  {
   "cell_type": "markdown",
   "metadata": {},
   "source": [
    "### 21. カテゴリ名を含む行を抽出"
   ]
  },
  {
   "cell_type": "code",
   "execution_count": null,
   "metadata": {},
   "outputs": [],
   "source": [
    "ukList = uk.split('\\n')\n",
    "ans = list(filter(lambda x: 'Category:' in x, ukList))\n",
    "print(ans)"
   ]
  },
  {
   "cell_type": "markdown",
   "metadata": {},
   "source": [
    "### 22. カテゴリ名の抽出"
   ]
  },
  {
   "cell_type": "code",
   "execution_count": null,
   "metadata": {},
   "outputs": [],
   "source": [
    "category = list(filter(lambda x: 'Category:' in x, ukList))\n",
    "ans = [c.replace('[[','').replace('Category:','').replace('|*', '').replace(']]','') for c in category]\n",
    "print(ans)"
   ]
  },
  {
   "cell_type": "markdown",
   "metadata": {},
   "source": [
    "### 23. セクション構造"
   ]
  },
  {
   "cell_type": "code",
   "execution_count": null,
   "metadata": {},
   "outputs": [],
   "source": [
    "for line in ukList:\n",
    "    if re.search(r'^=+.*=+$', line) :\n",
    "        level = line.count('=') // 2 - 1\n",
    "        print(line.replace('=', ''), level)"
   ]
  },
  {
   "cell_type": "markdown",
   "metadata": {},
   "source": [
    "### 24. ファイル参照の抽出"
   ]
  },
  {
   "cell_type": "code",
   "execution_count": null,
   "metadata": {},
   "outputs": [],
   "source": [
    "for line in ukList:\n",
    "    r = re.findall('File|ファイル:(.+?)\\|',line) #*は0回以上なのでダメ\n",
    "    if r :\n",
    "        print(r[0])"
   ]
  },
  {
   "cell_type": "markdown",
   "metadata": {},
   "source": [
    "### 25. テンプレートの抽出"
   ]
  },
  {
   "cell_type": "code",
   "execution_count": null,
   "metadata": {},
   "outputs": [],
   "source": [
    "p1 = re.compile(r'\\{\\{基礎情報')\n",
    "p2 = re.compile('\\|')\n",
    "p3 = re.compile('^\\}\\}')\n",
    "fg = False\n",
    "lst = []\n",
    "dct = {}\n",
    "for line in ukList:\n",
    "    if fg:\n",
    "        if p3.match(line):\n",
    "            break\n",
    "        if p2.match(line):\n",
    "            lst.append(line) # 先頭だけ置き換える\n",
    "    if p1.match(line):\n",
    "        fg = True\n",
    "# ワンライナーでかけないかな\n",
    "for l in lst:\n",
    "    a = re.search('\\|(.+?)\\s=\\s?(.+)',l)\n",
    "    dct[a[1]] = a[2]\n",
    "print(dct)"
   ]
  },
  {
   "cell_type": "markdown",
   "metadata": {},
   "source": [
    "### 26. 強調マークアップの除去"
   ]
  },
  {
   "cell_type": "code",
   "execution_count": null,
   "metadata": {},
   "outputs": [],
   "source": [
    "def remove_stress(v):\n",
    "    r = re.compile(\"'+\")\n",
    "    v = r.sub('', v)\n",
    "    return v"
   ]
  },
  {
   "cell_type": "code",
   "execution_count": null,
   "metadata": {},
   "outputs": [],
   "source": [
    "p1 = re.compile(r'\\{\\{基礎情報')\n",
    "p2 = re.compile('\\|')\n",
    "p3 = re.compile('^\\}\\}')\n",
    "fg = False\n",
    "lst = []\n",
    "dct = {}\n",
    "for line in ukList:\n",
    "    if fg:\n",
    "        if p3.match(line):\n",
    "            break\n",
    "        if p2.match(line):\n",
    "            lst.append(line) \n",
    "    if p1.match(line):\n",
    "        fg = True\n",
    "for l in lst:\n",
    "    a = re.search('\\|(.+?)\\s=\\s?(.+)',l)\n",
    "    dct[a[1]] = remove_stress(a[2]) # ここ\n",
    "print(dct)"
   ]
  },
  {
   "cell_type": "markdown",
   "metadata": {},
   "source": [
    "### 27. 内部リンクの除去"
   ]
  },
  {
   "cell_type": "code",
   "execution_count": null,
   "metadata": {},
   "outputs": [],
   "source": [
    "def remove_link(v):\n",
    "    r = re.compile(\"\\[\\[(.+?\\||)(.+?)\\]\\]\")\n",
    "    v = r.sub(r'\\2', v)\n",
    "    return v"
   ]
  },
  {
   "cell_type": "code",
   "execution_count": null,
   "metadata": {},
   "outputs": [],
   "source": [
    "p1 = re.compile(r'\\{\\{基礎情報')\n",
    "p2 = re.compile('\\|')\n",
    "p3 = re.compile('^\\}\\}')\n",
    "fg = False\n",
    "lst = []\n",
    "dct = {}\n",
    "for line in ukList:\n",
    "    if fg:\n",
    "        if p3.match(line):\n",
    "            break\n",
    "        if p2.match(line):\n",
    "            lst.append(line) \n",
    "    if p1.match(line):\n",
    "        fg = True\n",
    "for l in lst:\n",
    "    a = re.search('\\|(.+?)\\s=\\s?(.+)',l)\n",
    "    dct[a[1]] = remove_link(remove_stress(a[2])) # ここ\n",
    "pprint.pprint(dct)"
   ]
  },
  {
   "cell_type": "markdown",
   "metadata": {},
   "source": [
    "### 28. MediaWikiマークアップの除去"
   ]
  },
  {
   "cell_type": "code",
   "execution_count": null,
   "metadata": {},
   "outputs": [],
   "source": [
    "def remove_mk(v):    \n",
    "    p1 = re.compile(\"<(ref|br)(\\s|>).+?(</ref>|$)\")\n",
    "    p2 = re.compile('\\{\\{(.+\\||)(.+?)\\}\\}')\n",
    "    v = p1.sub('', v)\n",
    "    v = p2.sub('\\\\2',v)\n",
    "    v = remove_link(remove_stress(v)) # 26, 27\n",
    "    \n",
    "    return v"
   ]
  },
  {
   "cell_type": "code",
   "execution_count": null,
   "metadata": {},
   "outputs": [],
   "source": [
    "p1 = re.compile(r'\\{\\{基礎情報')\n",
    "p2 = re.compile('\\|')\n",
    "p3 = re.compile('\\}\\}')\n",
    "fg = False\n",
    "lst = []\n",
    "dct = {}\n",
    "for line in ukList:\n",
    "    if fg:\n",
    "        if p3.match(line):\n",
    "            break\n",
    "        if p2.match(line):\n",
    "            lst.append(line) \n",
    "    if p1.match(line):\n",
    "        fg = True\n",
    "for l in lst:\n",
    "    a = re.search('\\|(.+?)\\s=\\s?(.+)',l)\n",
    "    dct[a[1]] = remove_mk(a[2]) # ここ\n",
    "pprint.pprint(dct)"
   ]
  },
  {
   "cell_type": "markdown",
   "metadata": {},
   "source": [
    "### 29. 国旗画像のURLを取得する"
   ]
  },
  {
   "cell_type": "code",
   "execution_count": null,
   "metadata": {},
   "outputs": [],
   "source": [
    "import requests\n",
    "S = requests.Session()\n",
    "URL = \"https://en.wikipedia.org/w/api.php\"\n",
    "PARAMS = {\n",
    "    \"action\": \"query\",\n",
    "    \"format\": \"json\",\n",
    "    \"titles\": \"File:\" + dct['国旗画像'],\n",
    "    \"prop\": \"images\"\n",
    "}\n",
    "R = S.get(url=URL, params=PARAMS)\n",
    "DATA = R.json()\n",
    "\n",
    "PAGES = DATA['query']['pages']\n",
    "\n",
    "for k, v in PAGES.items():\n",
    "    for img in v['images']:\n",
    "        print(img[\"title\"])"
   ]
  },
  {
   "cell_type": "code",
   "execution_count": null,
   "metadata": {},
   "outputs": [],
   "source": []
  }
 ],
 "metadata": {
  "kernelspec": {
   "display_name": "Python 3",
   "language": "python",
   "name": "python3"
  },
  "language_info": {
   "codemirror_mode": {
    "name": "ipython",
    "version": 3
   },
   "file_extension": ".py",
   "mimetype": "text/x-python",
   "name": "python",
   "nbconvert_exporter": "python",
   "pygments_lexer": "ipython3",
   "version": "3.8.2"
  }
 },
 "nbformat": 4,
 "nbformat_minor": 4
}
