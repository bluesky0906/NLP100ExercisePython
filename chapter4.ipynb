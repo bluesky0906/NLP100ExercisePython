{
 "cells": [
  {
   "cell_type": "code",
   "execution_count": 40,
   "metadata": {},
   "outputs": [],
   "source": [
    "text_path = \"data/neko.txt\"\n",
    "mecab_path = \"data/neko.txt.mecab\"\n",
    "import MeCab\n",
    "import pprint\n",
    "import numpy as np\n",
    "from collections import Counter\n",
    "import matplotlib.pyplot as plt\n",
    "import japanize_matplotlib"
   ]
  },
  {
   "cell_type": "code",
   "execution_count": 2,
   "metadata": {},
   "outputs": [],
   "source": [
    "!mecab < $text_path > $mecab_path"
   ]
  },
  {
   "cell_type": "markdown",
   "metadata": {},
   "source": [
    "### 30. 形態素解析結果の読み込み"
   ]
  },
  {
   "cell_type": "code",
   "execution_count": 3,
   "metadata": {},
   "outputs": [],
   "source": [
    "# 表層形\\t品詞,品詞細分類1,品詞細分類2,品詞細分類3,活用型,活用形,原形,読み,発音\n",
    "def parseMecab(block):\n",
    "    lst = []\n",
    "    for line in block.split('\\n'):\n",
    "        if line == '':\n",
    "            return lst\n",
    "        (surface, attr) = line.split('\\t')\n",
    "        attr = attr.split(',')\n",
    "        dct = {\n",
    "            'surface': surface,\n",
    "            'base': attr[6],\n",
    "            'pos': attr[0],\n",
    "            'pos1': attr[1]\n",
    "        }\n",
    "        lst.append(dct)"
   ]
  },
  {
   "cell_type": "code",
   "execution_count": 4,
   "metadata": {},
   "outputs": [
    {
     "name": "stdout",
     "output_type": "stream",
     "text": [
      "[{'surface': 'ことに', 'base': 'ことに', 'pos': '副詞', 'pos1': '一般'}, {'surface': '吾輩', 'base': '吾輩', 'pos': '名詞', 'pos1': '代名詞'}, {'surface': 'が', 'base': 'が', 'pos': '助詞', 'pos1': '格助詞'}, {'surface': '時々', 'base': '時々', 'pos': '副詞', 'pos1': '一般'}, {'surface': '同衾', 'base': '同衾', 'pos': '名詞', 'pos1': 'サ変接続'}, {'surface': 'する', 'base': 'する', 'pos': '動詞', 'pos1': '自立'}, {'surface': '小', 'base': '小', 'pos': '接頭詞', 'pos1': '名詞接続'}, {'surface': '供', 'base': '供', 'pos': '名詞', 'pos1': 'サ変接続'}, {'surface': 'の', 'base': 'の', 'pos': '助詞', 'pos1': '連体化'}, {'surface': 'ご', 'base': 'ご', 'pos': '接頭詞', 'pos1': '名詞接続'}, {'surface': 'とき', 'base': 'とき', 'pos': '名詞', 'pos1': '非自立'}, {'surface': 'に', 'base': 'に', 'pos': '助詞', 'pos1': '格助詞'}, {'surface': '至っ', 'base': '至る', 'pos': '動詞', 'pos1': '自立'}, {'surface': 'て', 'base': 'て', 'pos': '助詞', 'pos1': '接続助詞'}, {'surface': 'は', 'base': 'は', 'pos': '助詞', 'pos1': '係助詞'}, {'surface': '言語', 'base': '言語', 'pos': '名詞', 'pos1': '一般'}, {'surface': '同断', 'base': '同断', 'pos': '名詞', 'pos1': '形容動詞語幹'}, {'surface': 'で', 'base': 'だ', 'pos': '助動詞', 'pos1': '*'}, {'surface': 'ある', 'base': 'ある', 'pos': '助動詞', 'pos1': '*'}, {'surface': '。', 'base': '。', 'pos': '記号', 'pos1': '句点'}]\n"
     ]
    }
   ],
   "source": [
    "with open(mecab_path, mode='rt', encoding='utf-8') as f:\n",
    "    blockList = f.read().split('EOS\\n')\n",
    "blockList = list(filter(lambda x: x != '', blockList))\n",
    "blockList = [parseMecab(block) for block in blockList]\n",
    "print(blockList[100])"
   ]
  },
  {
   "cell_type": "markdown",
   "metadata": {},
   "source": [
    "### 31. 動詞"
   ]
  },
  {
   "cell_type": "code",
   "execution_count": 5,
   "metadata": {},
   "outputs": [],
   "source": [
    "verb_surface = [line['surface']\n",
    "                for block in blockList\n",
    "                for line in block if line['pos'] == '動詞']"
   ]
  },
  {
   "cell_type": "markdown",
   "metadata": {},
   "source": [
    "### 32. 動詞の原形"
   ]
  },
  {
   "cell_type": "code",
   "execution_count": 6,
   "metadata": {},
   "outputs": [],
   "source": [
    "verb_base = [line['base']\n",
    "                for block in blockList\n",
    "                for line in block if line['pos'] == '動詞']"
   ]
  },
  {
   "cell_type": "markdown",
   "metadata": {},
   "source": [
    "### 33. 「AのB」"
   ]
  },
  {
   "cell_type": "code",
   "execution_count": 7,
   "metadata": {},
   "outputs": [],
   "source": [
    "no = []\n",
    "for block in blockList:\n",
    "    for i in range(1, len(block) -1):\n",
    "        if block[i-1]['pos'] == '名詞' and block[i]['surface'] == 'の' and block[i+1]['pos'] == '名詞':\n",
    "                no.append(block[i-1]['surface'] + block[i]['surface'] + block[i+2]['surface'])"
   ]
  },
  {
   "cell_type": "markdown",
   "metadata": {},
   "source": [
    "### 34. 名詞の連接"
   ]
  },
  {
   "cell_type": "code",
   "execution_count": 8,
   "metadata": {},
   "outputs": [],
   "source": [
    "norn = []\n",
    "for block in blockList:\n",
    "    count = 0\n",
    "    tmp = []\n",
    "    for line in block:\n",
    "        if line['pos'] == '名詞':\n",
    "            tmp.append(line['surface'])\n",
    "            count += 1\n",
    "        else:\n",
    "            if count > 1:\n",
    "                norn.append(tmp)\n",
    "            tmp = []\n",
    "            count = 0"
   ]
  },
  {
   "cell_type": "markdown",
   "metadata": {},
   "source": [
    "### 35. 単語の出現頻度"
   ]
  },
  {
   "cell_type": "code",
   "execution_count": 9,
   "metadata": {},
   "outputs": [
    {
     "name": "stdout",
     "output_type": "stream",
     "text": [
      "[('の_助詞', 7583), ('。_記号', 7486), ('て_助詞', 6848), ('、_記号', 6772), ('は_助詞', 6420), ('に_助詞', 6243), ('を_助詞', 6071), ('と_助詞', 5505), ('が_助詞', 5334), ('た_助動詞', 3987), ('「_記号', 3231), ('」_記号', 3225), ('も_助詞', 2479), ('だ_助動詞', 2363), ('し_動詞', 2259), ('で_助詞', 2069), ('から_助詞', 2031), ('で_助動詞', 1719), ('ない_助動詞', 1625), ('の_名詞', 1611), ('か_助詞', 1529), ('な_助動詞', 1289), ('いる_動詞', 1249), ('事_名詞', 1207), ('へ_助詞', 1031), ('ある_助動詞', 995), ('する_動詞', 992), ('もの_名詞', 981), ('う_助動詞', 980), ('君_名詞', 973), ('です_助動詞', 973), ('云う_動詞', 937), ('主人_名詞', 932), ('ん_助動詞', 850), ('ない_形容詞', 765), ('ん_名詞', 704), ('ある_動詞', 700), ('よう_名詞', 696), ('ね_助詞', 657), ('この_連体詞', 649), ('御_接頭詞', 636), ('人_名詞', 602), ('ば_助詞', 584), ('その_連体詞', 576), ('一_名詞', 554), ('何_名詞', 539), ('よ_助詞', 501), ('吾輩_名詞', 481), ('い_動詞', 470), ('ます_助動詞', 458), ('…_記号', 433), ('じゃ_助詞', 418), ('これ_名詞', 414), ('なる_動詞', 414), ('\\u3000_記号', 411), ('なっ_動詞', 404), ('それ_名詞', 381), ('来_動詞', 360), ('見_動詞', 350), ('時_名詞', 345), ('迷亭_名詞', 343), ('でも_助詞', 337), ('れ_動詞', 330), ('ませ_助動詞', 330), ('三_名詞', 319), ('——_名詞', 319), ('な_助詞', 315), ('まで_助詞', 313), ('ところ_名詞', 313), ('方_名詞', 312), ('二_名詞', 303), ('さ_助詞', 302), ('ず_助動詞', 299), ('上_名詞', 294), ('いい_形容詞', 294), ('寒月_名詞', 286), ('顔_名詞', 282), ('まし_助動詞', 281), ('そう_名詞', 280), ('ぬ_助動詞', 277), ('なら_助動詞', 276), ('先生_名詞', 274), ('見る_動詞', 273), ('人間_名詞', 272), ('だろ_助動詞', 270), ('僕_名詞', 268), ('そう_副詞', 266), ('くらい_助詞', 264), ('たら_助動詞', 262), ('さん_名詞', 260), ('気_名詞', 250), ('猫_名詞', 248), ('だけ_助詞', 246), ('云っ_動詞', 241), ('出_動詞', 237), ('中_名詞', 232), ('思っ_動詞', 232), ('ばかり_助詞', 231), ('十_名詞', 231), ('出来_動詞', 230)]\n"
     ]
    }
   ],
   "source": [
    "wordList = [f\"{line['surface']}_{line['pos']}\" for block in blockList for line in block]\n",
    "c = Counter(wordList)\n",
    "print(c.most_common(100))"
   ]
  },
  {
   "cell_type": "markdown",
   "metadata": {},
   "source": [
    "### 36. 頻度上位10語"
   ]
  },
  {
   "cell_type": "code",
   "execution_count": 23,
   "metadata": {},
   "outputs": [
    {
     "data": {
      "text/plain": [
       "<BarContainer object of 10 artists>"
      ]
     },
     "execution_count": 23,
     "metadata": {},
     "output_type": "execute_result"
    },
    {
     "data": {
      "image/png": "[encoded data removed]",
      "text/plain": [
       "<Figure size 432x288 with 1 Axes>"
      ]
     },
     "metadata": {
      "needs_background": "light"
     },
     "output_type": "display_data"
    }
   ],
   "source": [
    "target = list(zip(*c.most_common(10)))\n",
    "plt.bar(*target)"
   ]
  },
  {
   "cell_type": "markdown",
   "metadata": {},
   "source": [
    "### 37. 「猫」と共起頻度の高い上位10語"
   ]
  },
  {
   "cell_type": "code",
   "execution_count": 30,
   "metadata": {},
   "outputs": [
    {
     "data": {
      "text/plain": [
       "<BarContainer object of 10 artists>"
      ]
     },
     "execution_count": 30,
     "metadata": {},
     "output_type": "execute_result"
    },
    {
     "data": {
      "image/png": "[encoded data removed]",
      "text/plain": [
       "<Figure size 432x288 with 1 Axes>"
      ]
     },
     "metadata": {
      "needs_background": "light"
     },
     "output_type": "display_data"
    }
   ],
   "source": [
    "cat_sentences = [block for block in blockList for line in block if line['surface'] == '猫']\n",
    "with_cat = [line['surface'] for sentence in cat_sentences for line in sentence if line['surface'] != '猫']\n",
    "c = Counter(with_cat)\n",
    "target = list(zip(*c.most_common(10)))\n",
    "plt.bar(*target)"
   ]
  },
  {
   "cell_type": "markdown",
   "metadata": {},
   "source": [
    "### 38. ヒストグラム"
   ]
  },
  {
   "cell_type": "code",
   "execution_count": 34,
   "metadata": {},
   "outputs": [
    {
     "data": {
      "text/plain": [
       "(array([6447., 2357., 1157.,  722.,  546.,  373.,  288.,  251.,  175.,\n",
       "         138.]),\n",
       " array([ 1. ,  1.9,  2.8,  3.7,  4.6,  5.5,  6.4,  7.3,  8.2,  9.1, 10. ]),\n",
       " <a list of 10 Patch objects>)"
      ]
     },
     "execution_count": 34,
     "metadata": {},
     "output_type": "execute_result"
    },
    {
     "data": {
      "image/png": "[encoded data removed]",
      "text/plain": [
       "<Figure size 432x288 with 1 Axes>"
      ]
     },
     "metadata": {
      "needs_background": "light"
     },
     "output_type": "display_data"
    }
   ],
   "source": [
    "c = Counter(wordList)\n",
    "plt.hist(c.values(), range= (1,10))"
   ]
  },
  {
   "cell_type": "markdown",
   "metadata": {},
   "source": [
    "### 39. Zipfの法則"
   ]
  },
  {
   "cell_type": "code",
   "execution_count": 65,
   "metadata": {},
   "outputs": [
    {
     "name": "stderr",
     "output_type": "stream",
     "text": [
      "<ipython-input-65-c8e55e7f9c4e>:4: RuntimeWarning: divide by zero encountered in log\n",
      "  plt.scatter(np.log(range(len(v))),np.log(v))\n"
     ]
    },
    {
     "data": {
      "text/plain": [
       "<matplotlib.collections.PathCollection at 0x10d944490>"
      ]
     },
     "execution_count": 65,
     "metadata": {},
     "output_type": "execute_result"
    },
    {
     "data": {
      "image/png": "[encoded data removed]",
      "text/plain": [
       "<Figure size 432x288 with 1 Axes>"
      ]
     },
     "metadata": {
      "needs_background": "light"
     },
     "output_type": "display_data"
    }
   ],
   "source": [
    "c = Counter(wordList)\n",
    "v = [kv[1] for kv in c.most_common()]\n",
    "\n",
    "plt.scatter(np.log(range(len(v))),np.log(v))"
   ]
  },
  {
   "cell_type": "code",
   "execution_count": null,
   "metadata": {},
   "outputs": [],
   "source": []
  },
  {
   "cell_type": "code",
   "execution_count": null,
   "metadata": {},
   "outputs": [],
   "source": []
  }
 ],
 "metadata": {
  "kernelspec": {
   "display_name": "Python 3",
   "language": "python",
   "name": "python3"
  },
  "language_info": {
   "codemirror_mode": {
    "name": "ipython",
    "version": 3
   },
   "file_extension": ".py",
   "mimetype": "text/x-python",
   "name": "python",
   "nbconvert_exporter": "python",
   "pygments_lexer": "ipython3",
   "version": "3.8.2"
  }
 },
 "nbformat": 4,
 "nbformat_minor": 4
}
