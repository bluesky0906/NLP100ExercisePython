{
 "cells": [
  {
   "cell_type": "code",
   "execution_count": 25,
   "metadata": {},
   "outputs": [],
   "source": [
    "text_path = \"data/neko.txt\"\n",
    "mecab_path = \"data/neko.txt.mecab\"\n",
    "import MeCab\n",
    "import pprint"
   ]
  },
  {
   "cell_type": "code",
   "execution_count": 7,
   "metadata": {},
   "outputs": [],
   "source": [
    "!mecab < $text_path > $mecab_path"
   ]
  },
  {
   "cell_type": "markdown",
   "metadata": {},
   "source": [
    "### 30. 形態素解析結果の読み込み"
   ]
  },
  {
   "cell_type": "code",
   "execution_count": 42,
   "metadata": {},
   "outputs": [],
   "source": [
    "# 表層形\\t品詞,品詞細分類1,品詞細分類2,品詞細分類3,活用型,活用形,原形,読み,発音\n",
    "def parseMecab(block):\n",
    "    lst = []\n",
    "    for line in block.split('\\n'):\n",
    "        if line == '':\n",
    "            return lst\n",
    "        (surface, attr) = line.split('\\t')\n",
    "        attr = attr.split(',')\n",
    "        dct = {\n",
    "            'surface': surface,\n",
    "            'base': attr[6],\n",
    "            'pos': attr[0],\n",
    "            'pos1': attr[1]\n",
    "        }\n",
    "        lst.append(dct)"
   ]
  },
  {
   "cell_type": "code",
   "execution_count": 76,
   "metadata": {},
   "outputs": [
    {
     "name": "stdout",
     "output_type": "stream",
     "text": [
      "[{'surface': 'ことに', 'base': 'ことに', 'pos': '副詞', 'pos1': '一般'}, {'surface': '吾輩', 'base': '吾輩', 'pos': '名詞', 'pos1': '代名詞'}, {'surface': 'が', 'base': 'が', 'pos': '助詞', 'pos1': '格助詞'}, {'surface': '時々', 'base': '時々', 'pos': '副詞', 'pos1': '一般'}, {'surface': '同衾', 'base': '同衾', 'pos': '名詞', 'pos1': 'サ変接続'}, {'surface': 'する', 'base': 'する', 'pos': '動詞', 'pos1': '自立'}, {'surface': '小', 'base': '小', 'pos': '接頭詞', 'pos1': '名詞接続'}, {'surface': '供', 'base': '供', 'pos': '名詞', 'pos1': 'サ変接続'}, {'surface': 'の', 'base': 'の', 'pos': '助詞', 'pos1': '連体化'}, {'surface': 'ご', 'base': 'ご', 'pos': '接頭詞', 'pos1': '名詞接続'}, {'surface': 'とき', 'base': 'とき', 'pos': '名詞', 'pos1': '非自立'}, {'surface': 'に', 'base': 'に', 'pos': '助詞', 'pos1': '格助詞'}, {'surface': '至っ', 'base': '至る', 'pos': '動詞', 'pos1': '自立'}, {'surface': 'て', 'base': 'て', 'pos': '助詞', 'pos1': '接続助詞'}, {'surface': 'は', 'base': 'は', 'pos': '助詞', 'pos1': '係助詞'}, {'surface': '言語', 'base': '言語', 'pos': '名詞', 'pos1': '一般'}, {'surface': '同断', 'base': '同断', 'pos': '名詞', 'pos1': '形容動詞語幹'}, {'surface': 'で', 'base': 'だ', 'pos': '助動詞', 'pos1': '*'}, {'surface': 'ある', 'base': 'ある', 'pos': '助動詞', 'pos1': '*'}, {'surface': '。', 'base': '。', 'pos': '記号', 'pos1': '句点'}]\n"
     ]
    }
   ],
   "source": [
    "with open(mecab_path, mode='rt', encoding='utf-8') as f:\n",
    "    blockList = f.read().split('EOS\\n')\n",
    "blockList = list(filter(lambda x: x != '', blockList))\n",
    "blockList = [parseMecab(block) for block in blockList]\n",
    "print(blockList[100])"
   ]
  },
  {
   "cell_type": "markdown",
   "metadata": {},
   "source": [
    "### 31. 動詞"
   ]
  },
  {
   "cell_type": "code",
   "execution_count": 83,
   "metadata": {},
   "outputs": [],
   "source": [
    "verb_surface = [line['surface']\n",
    "                for block in blockList\n",
    "                for line in block if line['pos'] == '動詞']"
   ]
  },
  {
   "cell_type": "markdown",
   "metadata": {},
   "source": [
    "### 32. 動詞の原形"
   ]
  },
  {
   "cell_type": "code",
   "execution_count": 84,
   "metadata": {},
   "outputs": [],
   "source": [
    "verb_base = [line['base']\n",
    "                for block in blockList\n",
    "                for line in block if line['pos'] == '動詞']"
   ]
  },
  {
   "cell_type": "markdown",
   "metadata": {},
   "source": [
    "### 33. 「AのB」"
   ]
  },
  {
   "cell_type": "code",
   "execution_count": 87,
   "metadata": {},
   "outputs": [],
   "source": [
    "no = []\n",
    "for block in blockList:\n",
    "    for i in range(1, len(block) -1):\n",
    "        if block[i-1]['pos'] == '名詞' and block[i]['surface'] == 'の' and block[i+1]['pos'] == '名詞':\n",
    "                no.append(block[i-1]['surface'] + block[i]['surface'] + block[i+2]['surface'])"
   ]
  },
  {
   "cell_type": "markdown",
   "metadata": {},
   "source": [
    "### 34. 名詞の連接"
   ]
  },
  {
   "cell_type": "code",
   "execution_count": 91,
   "metadata": {},
   "outputs": [],
   "source": [
    "norn = []\n",
    "for block in blockList:\n",
    "    count = 0\n",
    "    tmp = []\n",
    "    for line in block:\n",
    "        if line['pos'] == '名詞':\n",
    "            tmp.append(line['surface'])\n",
    "            count += 1\n",
    "        else:\n",
    "            if count > 1:\n",
    "                norn.append(tmp)\n",
    "            tmp = []\n",
    "            count = 0"
   ]
  },
  {
   "cell_type": "code",
   "execution_count": null,
   "metadata": {},
   "outputs": [],
   "source": []
  }
 ],
 "metadata": {
  "kernelspec": {
   "display_name": "Python 3",
   "language": "python",
   "name": "python3"
  },
  "language_info": {
   "codemirror_mode": {
    "name": "ipython",
    "version": 3
   },
   "file_extension": ".py",
   "mimetype": "text/x-python",
   "name": "python",
   "nbconvert_exporter": "python",
   "pygments_lexer": "ipython3",
   "version": "3.8.2"
  }
 },
 "nbformat": 4,
 "nbformat_minor": 4
}
