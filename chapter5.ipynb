{
 "cells": [
  {
   "cell_type": "code",
   "execution_count": 1,
   "metadata": {},
   "outputs": [],
   "source": [
    "from cabocha.analyzer import CaboChaAnalyzer\n",
    "text_path = 'data/neko.txt'\n",
    "cabocha_path = 'data/neko.txt.cabocha'"
   ]
  },
  {
   "cell_type": "code",
   "execution_count": 2,
   "metadata": {},
   "outputs": [],
   "source": [
    "!cabocha -f1 < $text_path > $cabocha_path"
   ]
  },
  {
   "cell_type": "markdown",
   "metadata": {},
   "source": [
    "### 40. 係り受け解析結果の読み込み（形態素）"
   ]
  },
  {
   "cell_type": "code",
   "execution_count": 3,
   "metadata": {},
   "outputs": [],
   "source": [
    "class Morph:\n",
    "    def __init__(self, surface, base, pos, pos1):\n",
    "        self.surface = surface\n",
    "        self.base = base\n",
    "        self.pos = pos\n",
    "        self.pos1 = pos1"
   ]
  },
  {
   "cell_type": "code",
   "execution_count": 4,
   "metadata": {},
   "outputs": [],
   "source": [
    "def parseCabocha(block):\n",
    "    lst = []\n",
    "    for line in block.split('\\n'):\n",
    "        if line == '':\n",
    "            return lst\n",
    "        elif line[0] == '*':\n",
    "            continue\n",
    "        (surface, attr) = line.split('\\t')\n",
    "        attr = attr.split(',')\n",
    "        lst.append(Morph(surface, attr[6], attr[0], attr[1]))"
   ]
  },
  {
   "cell_type": "code",
   "execution_count": 5,
   "metadata": {},
   "outputs": [
    {
     "name": "stdout",
     "output_type": "stream",
     "text": [
      "{'surface': '名前', 'base': '名前', 'pos': '名詞', 'pos1': '一般'}\n",
      "{'surface': 'は', 'base': 'は', 'pos': '助詞', 'pos1': '係助詞'}\n",
      "{'surface': 'まだ', 'base': 'まだ', 'pos': '副詞', 'pos1': '助詞類接続'}\n",
      "{'surface': '無い', 'base': '無い', 'pos': '形容詞', 'pos1': '自立'}\n",
      "{'surface': '。', 'base': '。', 'pos': '記号', 'pos1': '句点'}\n"
     ]
    }
   ],
   "source": [
    "with open(cabocha_path, mode='rt', encoding='utf-8') as f:\n",
    "    blockList = f.read().split('EOS\\n')\n",
    "blockList = list(filter(lambda x: x != '', blockList))\n",
    "blockList = [parseCabocha(block) for block in blockList]\n",
    "for m in blockList[2]:\n",
    "    print(vars(m))"
   ]
  },
  {
   "cell_type": "markdown",
   "metadata": {},
   "source": [
    "### 41. 係り受け解析結果の読み込み（文節・係り受け）"
   ]
  },
  {
   "cell_type": "code",
   "execution_count": 6,
   "metadata": {},
   "outputs": [],
   "source": [
    "class Chunk:\n",
    "    def __init__(self, morphs, dst):\n",
    "        self.morphs = morphs\n",
    "        self.dst = dst\n",
    "        self.srcs = []"
   ]
  },
  {
   "cell_type": "code",
   "execution_count": 7,
   "metadata": {},
   "outputs": [],
   "source": [
    "def parseCabocha(block):\n",
    "    def checkCreateChunk(tmp):\n",
    "        if len(tmp) > 0:\n",
    "            c = Chunk(tmp, dst)\n",
    "            lst.append(c)\n",
    "            tmp = []\n",
    "        return tmp\n",
    "    \n",
    "    \n",
    "    lst = []\n",
    "    tmp = []\n",
    "    dst = None\n",
    "    for line in block.split('\\n'):\n",
    "        if line == '':\n",
    "            tmp = checkCreateChunk(tmp)\n",
    "        elif line[0] == '*':\n",
    "            tmp = checkCreateChunk(tmp)\n",
    "            dst = line.split(' ')[2].rstrip('D')\n",
    "        else:\n",
    "            (surface, attr) = line.split('\\t')\n",
    "            attr = attr.split(',')\n",
    "            tmp.append(Morph(surface, attr[6], attr[0], attr[1]))\n",
    "    for i, v in enumerate(lst):\n",
    "        # 係り先なし\n",
    "        if int(v.dst) == -1:\n",
    "            continue\n",
    "        lst[int(v.dst)].srcs.append(i)\n",
    "    return lst"
   ]
  },
  {
   "cell_type": "code",
   "execution_count": 8,
   "metadata": {},
   "outputs": [
    {
     "name": "stdout",
     "output_type": "stream",
     "text": [
      "['この'] 1 []\n",
      "['書生', 'という', 'の', 'は'] 7 [0]\n",
      "['時々'] 4 []\n",
      "['我々', 'を'] 4 []\n",
      "['捕え', 'て'] 5 [2, 3]\n",
      "['煮', 'て'] 6 [4]\n",
      "['食う', 'という'] 7 [5]\n",
      "['話', 'で', 'ある', '。'] -1 [1, 6]\n"
     ]
    }
   ],
   "source": [
    "with open(cabocha_path, mode='rt', encoding='utf-8') as f:\n",
    "    blockList = f.read().split('EOS\\n')\n",
    "blockList = list(filter(lambda x: x != '', blockList))\n",
    "blockList = [parseCabocha(block) for block in blockList]\n",
    "for m in blockList[7]:\n",
    "    print([mo.surface for mo in m.morphs], m.dst, m.srcs)"
   ]
  },
  {
   "cell_type": "markdown",
   "metadata": {},
   "source": [
    "### 42. 係り元と係り先の文節の表示"
   ]
  },
  {
   "cell_type": "code",
   "execution_count": 9,
   "metadata": {},
   "outputs": [],
   "source": [
    "def print_sentence(block):\n",
    "    s = ''\n",
    "    for m in block:\n",
    "        for mo in m.morphs:\n",
    "            s += mo.surface\n",
    "    print(s)"
   ]
  },
  {
   "cell_type": "code",
   "execution_count": 10,
   "metadata": {},
   "outputs": [
    {
     "name": "stdout",
     "output_type": "stream",
     "text": [
      "一\n",
      "　吾輩は猫である。\n",
      "\t猫である\n",
      "吾輩は\t猫である\n",
      "名前はまだ無い。\n",
      "名前は\t無い\n",
      "まだ\t無い\n",
      "　どこで生れたかとんと見当がつかぬ。\n",
      "どこで\t生れたか\n",
      "生れたか\tつかぬ\n",
      "とんと\tつかぬ\n",
      "見当が\tつかぬ\n",
      "何でも薄暗いじめじめした所でニャーニャー泣いていた事だけは記憶している。\n",
      "何でも\t薄暗い\n",
      "薄暗い\t所で\n",
      "じめじめした\t所で\n",
      "所で\t泣いて\n",
      "ニャーニャー\t泣いて\n",
      "泣いて\t記憶している\n",
      "いた事だけは\t記憶している\n",
      "吾輩はここで始めて人間というものを見た。\n",
      "吾輩は\t見た\n",
      "ここで\t始めて\n",
      "始めて\t人間という\n",
      "人間という\tものを\n",
      "ものを\t見た\n",
      "しかもあとで聞くとそれは書生という人間中で一番獰悪な種族であったそうだ。\n",
      "しかも\t種族であったそうだ\n",
      "あとで\t聞くと\n",
      "聞くと\t種族であったそうだ\n",
      "それは\t種族であったそうだ\n",
      "書生という\t人間中で\n",
      "人間中で\t種族であったそうだ\n",
      "一番\t獰悪な\n",
      "獰悪な\t種族であったそうだ\n",
      "この書生というのは時々我々を捕えて煮て食うという話である。\n",
      "この\t書生というのは\n",
      "書生というのは\t話である\n",
      "時々\t捕えて\n",
      "我々を\t捕えて\n",
      "捕えて\t煮て\n",
      "煮て\t食うという\n",
      "食うという\t話である\n",
      "しかしその当時は何という考もなかったから別段恐しいとも思わなかった。\n",
      "しかし\t思わなかった\n",
      "その\t当時は\n",
      "当時は\tなかったから\n",
      "何という\t考も\n",
      "考も\tなかったから\n",
      "なかったから\t思わなかった\n",
      "別段\t恐し\n",
      "恐し\t思わなかった\n",
      "いとも\t思わなかった\n",
      "ただ彼の掌に載せられてスーと持ち上げられた時何だかフワフワした感じがあったばかりである。\n",
      "ただ\t載せられて\n",
      "彼の\t掌に\n",
      "掌に\t載せられて\n",
      "載せられて\t持ち上げられた\n",
      "スーと\t持ち上げられた\n",
      "持ち上げられた\t時\n",
      "時\tフワフワした\n",
      "何だか\tフワフワした\n",
      "フワフワした\t感じが\n",
      "感じが\tあったばかりである\n"
     ]
    }
   ],
   "source": [
    "for block in blockList[:10]:\n",
    "    print_sentence(block)\n",
    "    for m in block:\n",
    "        if int(m.dst) > -1:\n",
    "            s = ''.join([mo.surface for mo in m.morphs if mo.pos != '記号'])\n",
    "            t = ''.join([mo.surface for mo in block[int(m.dst)].morphs if mo.pos != '記号'])\n",
    "            print(f'{s}\\t{t}')"
   ]
  },
  {
   "cell_type": "markdown",
   "metadata": {},
   "source": [
    "### 43. 名詞を含む文節が動詞を含む文節に係るものを抽出"
   ]
  },
  {
   "cell_type": "code",
   "execution_count": 11,
   "metadata": {},
   "outputs": [
    {
     "name": "stdout",
     "output_type": "stream",
     "text": [
      "どこで\t生れたか\n",
      "見当が\tつかぬ\n",
      "所で\t泣いて\n",
      "ニャーニャー\t泣いて\n",
      "いた事だけは\t記憶している\n",
      "吾輩は\t見た\n",
      "ここで\t始めて\n",
      "ものを\t見た\n",
      "あとで\t聞くと\n",
      "我々を\t捕えて\n",
      "掌に\t載せられて\n",
      "スーと\t持ち上げられた\n",
      "時\tフワフワした\n",
      "感じが\tあったばかりである\n"
     ]
    }
   ],
   "source": [
    "for block in blockList[:10]:\n",
    "    for m in block:\n",
    "        if int(m.dst) > -1:\n",
    "            if any([mo.pos == '名詞' for mo in m.morphs]) and any([mo.pos == '動詞' for mo in block[int(m.dst)].morphs]):\n",
    "                s = ''.join([mo.surface for mo in m.morphs if mo.pos != '記号'])\n",
    "                t = ''.join([mo.surface for mo in block[int(m.dst)].morphs if mo.pos != '記号' ])\n",
    "                print(f'{s}\\t{t}')"
   ]
  },
  {
   "cell_type": "markdown",
   "metadata": {},
   "source": [
    "### 44. 係り受け木の可視化"
   ]
  },
  {
   "cell_type": "code",
   "execution_count": 12,
   "metadata": {},
   "outputs": [
    {
     "name": "stdout",
     "output_type": "stream",
     "text": [
      "Requirement already satisfied: pydot in /Users/sora/.pyenv/versions/3.8.2/envs/nlp100/lib/python3.8/site-packages (1.4.1)\n",
      "Requirement already satisfied: pyparsing>=2.1.4 in /Users/sora/.pyenv/versions/3.8.2/envs/nlp100/lib/python3.8/site-packages (from pydot) (2.4.7)\n"
     ]
    }
   ],
   "source": [
    "!pip install pydot"
   ]
  },
  {
   "cell_type": "code",
   "execution_count": 29,
   "metadata": {},
   "outputs": [
    {
     "name": "stdout",
     "output_type": "stream",
     "text": [
      "[['この', '書生というのは'], ['書生というのは', '話である'], ['時々', '捕えて'], ['我々を', '捕えて'], ['捕えて', '煮て'], ['煮て', '食うという'], ['食うという', '話である']]\n"
     ]
    }
   ],
   "source": [
    "import pydot\n",
    "\n",
    "block = blockList[7]\n",
    "pairs = []\n",
    "for m in block:\n",
    "    if int(m.dst) > -1:\n",
    "        s = ''.join([mo.surface for mo in m.morphs if mo.pos != '記号'])\n",
    "        t = ''.join([mo.surface for mo in block[int(m.dst)].morphs if mo.pos != '記号'])\n",
    "        pairs.append([s, t])\n",
    "g = pydot.graph_from_edges(pairs)\n",
    "print(pairs)\n",
    "g.write_png('data/graph.png', prog='dot')"
   ]
  }
 ],
 "metadata": {
  "kernelspec": {
   "display_name": "Python 3",
   "language": "python",
   "name": "python3"
  },
  "language_info": {
   "codemirror_mode": {
    "name": "ipython",
    "version": 3
   },
   "file_extension": ".py",
   "mimetype": "text/x-python",
   "name": "python",
   "nbconvert_exporter": "python",
   "pygments_lexer": "ipython3",
   "version": "3.8.2"
  }
 },
 "nbformat": 4,
 "nbformat_minor": 4
}
