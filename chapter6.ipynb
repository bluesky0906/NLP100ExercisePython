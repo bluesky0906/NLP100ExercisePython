{
 "cells": [
  {
   "cell_type": "code",
   "execution_count": 23,
   "metadata": {},
   "outputs": [],
   "source": [
    "import pandas as pd\n",
    "from sklearn.feature_extraction.text import CountVectorizer\n",
    "import numpy as np\n",
    "from sklearn.model_selection import train_test_split\n",
    "from sklearn.linear_model import LogisticRegression\n",
    "from sklearn.metrics import accuracy_score, confusion_matrix\n",
    "from sklearn.metrics import precision_score\n",
    "from sklearn.metrics import recall_score\n",
    "from sklearn.metrics import f1_score\n",
    "import matplotlib.pyplot as plt\n",
    "import itertools\n",
    "path = \"data/chap6/newsCorpora.csv\""
   ]
  },
  {
   "cell_type": "markdown",
   "metadata": {},
   "source": [
    "### 50. データの入手・整形"
   ]
  },
  {
   "cell_type": "code",
   "execution_count": 2,
   "metadata": {},
   "outputs": [],
   "source": [
    "# 2\n",
    "df = pd.read_csv(path, sep='\\t', header=None)\n",
    "df.columns = ['ID', 'TITLE', 'URL', 'PUBLISHER', 'CATEGORY', 'STORY', 'HOSTNAME', 'TIMESTAMP']\n",
    "publishers = ['Reuters', 'Huffington Post', 'Businessweek', 'Contactmusic.com', 'Daily Mail']\n",
    "selected_df = df[df['PUBLISHER'].isin(publishers)]"
   ]
  },
  {
   "cell_type": "code",
   "execution_count": 3,
   "metadata": {},
   "outputs": [],
   "source": [
    "# 3\n",
    "selected_df = selected_df.sample(frac=1)"
   ]
  },
  {
   "cell_type": "code",
   "execution_count": 4,
   "metadata": {},
   "outputs": [],
   "source": [
    "# 4\n",
    "train_df, valid_test_df = train_test_split(selected_df, train_size=0.8)\n",
    "valid_df, test_df = train_test_split(valid_test_df, train_size=0.5)\n",
    "columns = ['CATEGORY','TITLE']\n",
    "train_df.to_csv(\"data/chap6/train.txt\", columns=columns, sep='\\t', header=False, index=False)\n",
    "test_df.to_csv(\"data/chap6/test.txt\", columns=columns, sep='\\t', header=False, index=False)\n",
    "valid_df.to_csv(\"data/chap6/valid.txt\", columns=columns, sep='\\t', header=False, index=False)"
   ]
  },
  {
   "cell_type": "code",
   "execution_count": 5,
   "metadata": {},
   "outputs": [
    {
     "data": {
      "text/plain": [
       "b    5627\n",
       "e    5279\n",
       "t    1524\n",
       "m     910\n",
       "Name: CATEGORY, dtype: int64"
      ]
     },
     "execution_count": 5,
     "metadata": {},
     "output_type": "execute_result"
    }
   ],
   "source": [
    "selected_df['CATEGORY'].value_counts()"
   ]
  },
  {
   "cell_type": "markdown",
   "metadata": {},
   "source": [
    "### 51. 特徴量抽出"
   ]
  },
  {
   "cell_type": "code",
   "execution_count": 6,
   "metadata": {},
   "outputs": [],
   "source": [
    "vec_count = CountVectorizer()\n",
    "x_train = vec_count.fit_transform(train_df['TITLE'])\n",
    "x_test = vec_count.transform(test_df['TITLE'])\n",
    "x_valid = vec_count.transform(valid_df['TITLE'])\n",
    "\n",
    "np.savetxt('data/chap6/train.feature.txt', x_train.toarray(), fmt='%d') # スパース行列から密行列に変換\n",
    "np.savetxt('data/chap6/valid.feature.txt', x_valid.toarray(), fmt='%d')\n",
    "np.savetxt('data/chap6/test.feature.txt', x_test.toarray(), fmt='%d')"
   ]
  },
  {
   "cell_type": "markdown",
   "metadata": {},
   "source": [
    "### 52. 学習"
   ]
  },
  {
   "cell_type": "code",
   "execution_count": 7,
   "metadata": {},
   "outputs": [
    {
     "name": "stderr",
     "output_type": "stream",
     "text": [
      "/Users/sora/.pyenv/versions/3.8.2/envs/nlp100/lib/python3.8/site-packages/sklearn/linear_model/_logistic.py:762: ConvergenceWarning: lbfgs failed to converge (status=1):\n",
      "STOP: TOTAL NO. of ITERATIONS REACHED LIMIT.\n",
      "\n",
      "Increase the number of iterations (max_iter) or scale the data as shown in:\n",
      "    https://scikit-learn.org/stable/modules/preprocessing.html\n",
      "Please also refer to the documentation for alternative solver options:\n",
      "    https://scikit-learn.org/stable/modules/linear_model.html#logistic-regression\n",
      "  n_iter_i = _check_optimize_result(\n"
     ]
    },
    {
     "data": {
      "text/plain": [
       "LogisticRegression()"
      ]
     },
     "execution_count": 7,
     "metadata": {},
     "output_type": "execute_result"
    }
   ],
   "source": [
    "clf = LogisticRegression()\n",
    "clf.fit(x_train, train_df['CATEGORY'])"
   ]
  },
  {
   "cell_type": "markdown",
   "metadata": {},
   "source": [
    "### 53. 予測"
   ]
  },
  {
   "cell_type": "code",
   "execution_count": 8,
   "metadata": {},
   "outputs": [
    {
     "name": "stdout",
     "output_type": "stream",
     "text": [
      "UPDATE 1-Mercedes recalls 284000 cars in US, Canada over tail lights\n",
      "business: 0.08633018503523582\n",
      "entertainment: 0.002662581877367306\n",
      "health: 0.009787056805324318\n",
      "science and technology: 0.9012201762820725\n"
     ]
    }
   ],
   "source": [
    "dic = {'b':'business', 't':'science and technology', 'e' : 'entertainment', 'm' : 'health'}\n",
    "def predict(text):\n",
    "    text = [text]\n",
    "    x = vec_count.transform(text)\n",
    "    ls_proba = clf.predict_proba(x)\n",
    "    for proba in ls_proba:\n",
    "        for c, p in zip(clf.classes_, proba):\n",
    "            print (dic[c]+':',p)\n",
    "s = train_df.iloc[0]['TITLE']\n",
    "print(s)\n",
    "predict(s)"
   ]
  },
  {
   "cell_type": "markdown",
   "metadata": {},
   "source": [
    "### 54. 正解率の計測"
   ]
  },
  {
   "cell_type": "code",
   "execution_count": 9,
   "metadata": {},
   "outputs": [
    {
     "name": "stdout",
     "output_type": "stream",
     "text": [
      "0.9963455772113943\n",
      "0.9107946026986506\n"
     ]
    }
   ],
   "source": [
    "y_train_pred = clf.predict(x_train)\n",
    "y_test_pred = clf.predict(x_test)\n",
    "y_train = train_df['CATEGORY']\n",
    "y_test = test_df['CATEGORY']\n",
    "print (accuracy_score(y_train, y_train_pred))\n",
    "print (accuracy_score(y_test, y_test_pred))"
   ]
  },
  {
   "cell_type": "markdown",
   "metadata": {},
   "source": [
    "### 55. 混同行列の作成"
   ]
  },
  {
   "cell_type": "code",
   "execution_count": 10,
   "metadata": {},
   "outputs": [
    {
     "name": "stdout",
     "output_type": "stream",
     "text": [
      "      b     t     e    m\n",
      "b  4512     7     4    0\n",
      "t    13  1214     2    0\n",
      "e     6     1  4199    1\n",
      "m     3     0     2  708\n",
      "     b    t    e   m\n",
      "b  517   20   21   3\n",
      "t   23  106   11   0\n",
      "e    5    6  531   3\n",
      "m   14    3   10  61\n"
     ]
    }
   ],
   "source": [
    "labels = ['b','t','e','m']\n",
    "train_cm = confusion_matrix(y_train, y_train_pred, labels=labels)\n",
    "test_cm = confusion_matrix(y_test, y_test_pred, labels=labels)\n",
    "train_cm_labeled = pd.DataFrame(train_cm, columns=labels, index=labels)\n",
    "test_cm_labeled = pd.DataFrame(test_cm, columns=labels, index=labels)\n",
    "print(train_cm_labeled)\n",
    "print(test_cm_labeled)"
   ]
  },
  {
   "cell_type": "markdown",
   "metadata": {},
   "source": [
    "### 56. 適合率，再現率，F1スコアの計測"
   ]
  },
  {
   "cell_type": "code",
   "execution_count": 11,
   "metadata": {},
   "outputs": [
    {
     "name": "stdout",
     "output_type": "stream",
     "text": [
      "   precision score  recall score  f1 score\n",
      "b         0.924866      0.921569  0.923214\n",
      "t         0.785185      0.757143  0.770909\n",
      "e         0.926702      0.974312  0.949911\n",
      "m         0.910448      0.693182  0.787097\n"
     ]
    }
   ],
   "source": [
    "ps = precision_score(y_test, y_test_pred, average=None, labels=labels)\n",
    "rs = recall_score(y_test, y_test_pred, average=None, labels=labels)\n",
    "f1 = f1_score(y_test, y_test_pred, average=None, labels=labels)\n",
    "\n",
    "df = pd.DataFrame(data={'precision score': ps, 'recall score': rs, 'f1 score': f1}, index = labels)\n",
    "print(df)"
   ]
  },
  {
   "cell_type": "code",
   "execution_count": 12,
   "metadata": {},
   "outputs": [
    {
     "name": "stdout",
     "output_type": "stream",
     "text": [
      "   precision score  recall score  f1 score\n",
      "b         0.910795      0.910795  0.910795\n",
      "t         0.910795      0.910795  0.910795\n",
      "e         0.910795      0.910795  0.910795\n",
      "m         0.910795      0.910795  0.910795\n"
     ]
    }
   ],
   "source": [
    "micro_ps = precision_score(y_test, y_test_pred, average='micro', labels=labels)\n",
    "micro_rs = recall_score(y_test, y_test_pred, average='micro', labels=labels)\n",
    "micro_f1 = f1_score(y_test, y_test_pred, average='micro', labels=labels)\n",
    "\n",
    "micro_df = pd.DataFrame(data={'precision score': micro_ps, 'recall score': micro_rs, 'f1 score': micro_f1}, index = labels)\n",
    "print(micro_df)"
   ]
  },
  {
   "cell_type": "code",
   "execution_count": 13,
   "metadata": {},
   "outputs": [
    {
     "name": "stdout",
     "output_type": "stream",
     "text": [
      "   precision score  recall score  f1 score\n",
      "b           0.8868      0.836551  0.857783\n",
      "t           0.8868      0.836551  0.857783\n",
      "e           0.8868      0.836551  0.857783\n",
      "m           0.8868      0.836551  0.857783\n"
     ]
    }
   ],
   "source": [
    "macro_ps = precision_score(y_test, y_test_pred, average='macro', labels=labels)\n",
    "macro_rs = recall_score(y_test, y_test_pred, average='macro', labels=labels)\n",
    "macro_f1 = f1_score(y_test, y_test_pred, average='macro', labels=labels)\n",
    "\n",
    "macro_df = pd.DataFrame(data={'precision score': macro_ps, 'recall score': macro_rs, 'f1 score': macro_f1}, index = labels)\n",
    "print(macro_df)"
   ]
  },
  {
   "cell_type": "markdown",
   "metadata": {},
   "source": [
    "### 57. 特徴量の重みの確認"
   ]
  },
  {
   "cell_type": "code",
   "execution_count": 14,
   "metadata": {},
   "outputs": [
    {
     "name": "stdout",
     "output_type": "stream",
     "text": [
      "business\n",
      "['bank' 'fed' 'ecb' 'ukraine' 'yellen' 'obamacare' 'euro' 'china' 'pfizer'\n",
      " 'dollar']\n",
      "['activision' 'cap' 'aereo' 'virus' 'ebola' 'heartbleed' 'twitch'\n",
      " 'nintendo' 'she' 'pump']\n",
      "entertainment\n",
      "['kardashian' 'chris' 'transformers' 'paul' 'thrones' 'film' 'movie'\n",
      " 'miley' 'star' 'kim']\n",
      "['google' 'facebook' 'gm' 'study' 'china' 'ceo' 'billion' 'data' 'alibaba'\n",
      " 'microsoft']\n",
      "health\n",
      "['ebola' 'fda' 'cancer' 'cases' 'study' 'drug' 'mers' 'cdc' 'cigarettes'\n",
      " 'doctors']\n",
      "['gm' 'dimon' 'facebook' 'climate' 'apple' 'twitter' 'play' 'netflix'\n",
      " 'deal' 'sales']\n",
      "science and technology\n",
      "['facebook' 'google' 'apple' 'microsoft' 'climate' 'tesla' 'heartbleed'\n",
      " 'nasa' 'fcc' 'moon']\n",
      "['stocks' 'percent' 'valued' 'grows' 'fed' 'american' 'expands' 'concerns'\n",
      " 'close' 'thrones']\n"
     ]
    }
   ],
   "source": [
    "names = np.array(vec_count.get_feature_names())\n",
    "labels=['b','t','e','m']\n",
    "for c, coef in zip(clf.classes_, clf.coef_): # カテゴリ毎に表示する\n",
    "    idx = np.argsort(coef)[::-1] # 降順ソート\n",
    "    print (dic[c])\n",
    "    print (names[idx][:10]) # 重みの高い特徴量トップ10\n",
    "    print (names[idx][-10:][::-1]) # 重みの低い特徴量トップ10"
   ]
  },
  {
   "cell_type": "markdown",
   "metadata": {},
   "source": [
    "### 58. 正則化パラメータの変更"
   ]
  },
  {
   "cell_type": "code",
   "execution_count": 17,
   "metadata": {},
   "outputs": [],
   "source": [
    "def calc_scores(c):\n",
    "    y_train = train_df['CATEGORY']\n",
    "    y_test = test_df['CATEGORY']\n",
    "    y_valid = valid_df['CATEGORY']\n",
    "    \n",
    "    clf = LogisticRegression(C=c)\n",
    "    clf.fit(x_train, y_train)\n",
    "    \n",
    "    y_train_pred = clf.predict(x_train)\n",
    "    y_test_pred = clf.predict(x_test)\n",
    "    y_valid_pred = clf.predict(x_valid)\n",
    "    \n",
    "    scores = []\n",
    "    scores.append(accuracy_score(y_train, y_train_pred))\n",
    "    scores.append(accuracy_score(y_valid, y_valid_pred))\n",
    "    scores.append(accuracy_score(y_test, y_test_pred))\n",
    "    return scores"
   ]
  },
  {
   "cell_type": "code",
   "execution_count": 21,
   "metadata": {},
   "outputs": [
    {
     "name": "stderr",
     "output_type": "stream",
     "text": [
      "/Users/sora/.pyenv/versions/3.8.2/envs/nlp100/lib/python3.8/site-packages/sklearn/linear_model/_logistic.py:762: ConvergenceWarning: lbfgs failed to converge (status=1):\n",
      "STOP: TOTAL NO. of ITERATIONS REACHED LIMIT.\n",
      "\n",
      "Increase the number of iterations (max_iter) or scale the data as shown in:\n",
      "    https://scikit-learn.org/stable/modules/preprocessing.html\n",
      "Please also refer to the documentation for alternative solver options:\n",
      "    https://scikit-learn.org/stable/modules/linear_model.html#logistic-regression\n",
      "  n_iter_i = _check_optimize_result(\n",
      "/Users/sora/.pyenv/versions/3.8.2/envs/nlp100/lib/python3.8/site-packages/sklearn/linear_model/_logistic.py:762: ConvergenceWarning: lbfgs failed to converge (status=1):\n",
      "STOP: TOTAL NO. of ITERATIONS REACHED LIMIT.\n",
      "\n",
      "Increase the number of iterations (max_iter) or scale the data as shown in:\n",
      "    https://scikit-learn.org/stable/modules/preprocessing.html\n",
      "Please also refer to the documentation for alternative solver options:\n",
      "    https://scikit-learn.org/stable/modules/linear_model.html#logistic-regression\n",
      "  n_iter_i = _check_optimize_result(\n",
      "/Users/sora/.pyenv/versions/3.8.2/envs/nlp100/lib/python3.8/site-packages/sklearn/linear_model/_logistic.py:762: ConvergenceWarning: lbfgs failed to converge (status=1):\n",
      "STOP: TOTAL NO. of ITERATIONS REACHED LIMIT.\n",
      "\n",
      "Increase the number of iterations (max_iter) or scale the data as shown in:\n",
      "    https://scikit-learn.org/stable/modules/preprocessing.html\n",
      "Please also refer to the documentation for alternative solver options:\n",
      "    https://scikit-learn.org/stable/modules/linear_model.html#logistic-regression\n",
      "  n_iter_i = _check_optimize_result(\n",
      "/Users/sora/.pyenv/versions/3.8.2/envs/nlp100/lib/python3.8/site-packages/sklearn/linear_model/_logistic.py:762: ConvergenceWarning: lbfgs failed to converge (status=1):\n",
      "STOP: TOTAL NO. of ITERATIONS REACHED LIMIT.\n",
      "\n",
      "Increase the number of iterations (max_iter) or scale the data as shown in:\n",
      "    https://scikit-learn.org/stable/modules/preprocessing.html\n",
      "Please also refer to the documentation for alternative solver options:\n",
      "    https://scikit-learn.org/stable/modules/linear_model.html#logistic-regression\n",
      "  n_iter_i = _check_optimize_result(\n",
      "/Users/sora/.pyenv/versions/3.8.2/envs/nlp100/lib/python3.8/site-packages/sklearn/linear_model/_logistic.py:762: ConvergenceWarning: lbfgs failed to converge (status=1):\n",
      "STOP: TOTAL NO. of ITERATIONS REACHED LIMIT.\n",
      "\n",
      "Increase the number of iterations (max_iter) or scale the data as shown in:\n",
      "    https://scikit-learn.org/stable/modules/preprocessing.html\n",
      "Please also refer to the documentation for alternative solver options:\n",
      "    https://scikit-learn.org/stable/modules/linear_model.html#logistic-regression\n",
      "  n_iter_i = _check_optimize_result(\n"
     ]
    },
    {
     "data": {
      "text/plain": [
       "<matplotlib.legend.Legend at 0x126d6dac0>"
      ]
     },
     "execution_count": 21,
     "metadata": {},
     "output_type": "execute_result"
    },
    {
     "data": {
      "image/png": "[encoded data removed]",
      "text/plain": [
       "<Figure size 432x288 with 1 Axes>"
      ]
     },
     "metadata": {
      "needs_background": "light"
     },
     "output_type": "display_data"
    }
   ],
   "source": [
    "C = np.logspace(-5, 4, 10, base=10)\n",
    "scores = []\n",
    "for c in C:\n",
    "    scores.append(calc_scores(c))\n",
    "scores = np.array(scores).T\n",
    "labels = ['train', 'valid', 'test']\n",
    "\n",
    "for score, label in zip(scores,labels):\n",
    "    plt.plot(C, score, label=label)\n",
    "plt.ylim(0, 1.1)\n",
    "plt.xscale('log')\n",
    "plt.xlabel('C', fontsize = 14)\n",
    "plt.ylabel('Accuracy', fontsize = 14)\n",
    "plt.tick_params(labelsize=14)\n",
    "plt.grid(True)\n",
    "plt.legend()"
   ]
  },
  {
   "cell_type": "markdown",
   "metadata": {},
   "source": [
    "### 59. ハイパーパラメータの探索"
   ]
  },
  {
   "cell_type": "code",
   "execution_count": 22,
   "metadata": {},
   "outputs": [],
   "source": [
    "def calc_scores(c, solver, class_weight):\n",
    "    y_train = train_df['CATEGORY']\n",
    "    y_test = test_df['CATEGORY']\n",
    "    y_valid = valid_df['CATEGORY']\n",
    "    \n",
    "    clf = LogisticRegression(C=c, solver=solver, class_weight=class_weight)\n",
    "    clf.fit(x_train, y_train)\n",
    "    \n",
    "    y_train_pred = clf.predict(x_train)\n",
    "    y_test_pred = clf.predict(x_test)\n",
    "    y_valid_pred = clf.predict(x_valid)\n",
    "    \n",
    "    scores = []\n",
    "    scores.append(accuracy_score(y_train, y_train_pred))\n",
    "    scores.append(accuracy_score(y_valid, y_valid_pred))\n",
    "    scores.append(accuracy_score(y_test, y_test_pred))\n",
    "    return scores"
   ]
  },
  {
   "cell_type": "code",
   "execution_count": 30,
   "metadata": {},
   "outputs": [
    {
     "name": "stderr",
     "output_type": "stream",
     "text": [
      "/Users/sora/.pyenv/versions/3.8.2/envs/nlp100/lib/python3.8/site-packages/sklearn/linear_model/_sag.py:329: ConvergenceWarning: The max_iter was reached which means the coef_ did not converge\n",
      "  warnings.warn(\"The max_iter was reached which means \"\n",
      "/Users/sora/.pyenv/versions/3.8.2/envs/nlp100/lib/python3.8/site-packages/sklearn/linear_model/_sag.py:329: ConvergenceWarning: The max_iter was reached which means the coef_ did not converge\n",
      "  warnings.warn(\"The max_iter was reached which means \"\n",
      "/Users/sora/.pyenv/versions/3.8.2/envs/nlp100/lib/python3.8/site-packages/sklearn/linear_model/_sag.py:329: ConvergenceWarning: The max_iter was reached which means the coef_ did not converge\n",
      "  warnings.warn(\"The max_iter was reached which means \"\n",
      "/Users/sora/.pyenv/versions/3.8.2/envs/nlp100/lib/python3.8/site-packages/sklearn/linear_model/_sag.py:329: ConvergenceWarning: The max_iter was reached which means the coef_ did not converge\n",
      "  warnings.warn(\"The max_iter was reached which means \"\n",
      "/Users/sora/.pyenv/versions/3.8.2/envs/nlp100/lib/python3.8/site-packages/sklearn/linear_model/_sag.py:329: ConvergenceWarning: The max_iter was reached which means the coef_ did not converge\n",
      "  warnings.warn(\"The max_iter was reached which means \"\n",
      "/Users/sora/.pyenv/versions/3.8.2/envs/nlp100/lib/python3.8/site-packages/sklearn/linear_model/_sag.py:329: ConvergenceWarning: The max_iter was reached which means the coef_ did not converge\n",
      "  warnings.warn(\"The max_iter was reached which means \"\n",
      "/Users/sora/.pyenv/versions/3.8.2/envs/nlp100/lib/python3.8/site-packages/sklearn/linear_model/_sag.py:329: ConvergenceWarning: The max_iter was reached which means the coef_ did not converge\n",
      "  warnings.warn(\"The max_iter was reached which means \"\n",
      "/Users/sora/.pyenv/versions/3.8.2/envs/nlp100/lib/python3.8/site-packages/sklearn/linear_model/_sag.py:329: ConvergenceWarning: The max_iter was reached which means the coef_ did not converge\n",
      "  warnings.warn(\"The max_iter was reached which means \"\n",
      "/Users/sora/.pyenv/versions/3.8.2/envs/nlp100/lib/python3.8/site-packages/sklearn/linear_model/_sag.py:329: ConvergenceWarning: The max_iter was reached which means the coef_ did not converge\n",
      "  warnings.warn(\"The max_iter was reached which means \"\n",
      "/Users/sora/.pyenv/versions/3.8.2/envs/nlp100/lib/python3.8/site-packages/sklearn/linear_model/_sag.py:329: ConvergenceWarning: The max_iter was reached which means the coef_ did not converge\n",
      "  warnings.warn(\"The max_iter was reached which means \"\n",
      "/Users/sora/.pyenv/versions/3.8.2/envs/nlp100/lib/python3.8/site-packages/sklearn/linear_model/_sag.py:329: ConvergenceWarning: The max_iter was reached which means the coef_ did not converge\n",
      "  warnings.warn(\"The max_iter was reached which means \"\n",
      "/Users/sora/.pyenv/versions/3.8.2/envs/nlp100/lib/python3.8/site-packages/sklearn/linear_model/_sag.py:329: ConvergenceWarning: The max_iter was reached which means the coef_ did not converge\n",
      "  warnings.warn(\"The max_iter was reached which means \"\n",
      "/Users/sora/.pyenv/versions/3.8.2/envs/nlp100/lib/python3.8/site-packages/sklearn/linear_model/_sag.py:329: ConvergenceWarning: The max_iter was reached which means the coef_ did not converge\n",
      "  warnings.warn(\"The max_iter was reached which means \"\n",
      "/Users/sora/.pyenv/versions/3.8.2/envs/nlp100/lib/python3.8/site-packages/sklearn/linear_model/_sag.py:329: ConvergenceWarning: The max_iter was reached which means the coef_ did not converge\n",
      "  warnings.warn(\"The max_iter was reached which means \"\n",
      "/Users/sora/.pyenv/versions/3.8.2/envs/nlp100/lib/python3.8/site-packages/sklearn/linear_model/_logistic.py:762: ConvergenceWarning: lbfgs failed to converge (status=1):\n",
      "STOP: TOTAL NO. of ITERATIONS REACHED LIMIT.\n",
      "\n",
      "Increase the number of iterations (max_iter) or scale the data as shown in:\n",
      "    https://scikit-learn.org/stable/modules/preprocessing.html\n",
      "Please also refer to the documentation for alternative solver options:\n",
      "    https://scikit-learn.org/stable/modules/linear_model.html#logistic-regression\n",
      "  n_iter_i = _check_optimize_result(\n",
      "/Users/sora/.pyenv/versions/3.8.2/envs/nlp100/lib/python3.8/site-packages/sklearn/linear_model/_logistic.py:762: ConvergenceWarning: lbfgs failed to converge (status=1):\n",
      "STOP: TOTAL NO. of ITERATIONS REACHED LIMIT.\n",
      "\n",
      "Increase the number of iterations (max_iter) or scale the data as shown in:\n",
      "    https://scikit-learn.org/stable/modules/preprocessing.html\n",
      "Please also refer to the documentation for alternative solver options:\n",
      "    https://scikit-learn.org/stable/modules/linear_model.html#logistic-regression\n",
      "  n_iter_i = _check_optimize_result(\n",
      "/Users/sora/.pyenv/versions/3.8.2/envs/nlp100/lib/python3.8/site-packages/sklearn/linear_model/_sag.py:329: ConvergenceWarning: The max_iter was reached which means the coef_ did not converge\n",
      "  warnings.warn(\"The max_iter was reached which means \"\n",
      "/Users/sora/.pyenv/versions/3.8.2/envs/nlp100/lib/python3.8/site-packages/sklearn/linear_model/_sag.py:329: ConvergenceWarning: The max_iter was reached which means the coef_ did not converge\n",
      "  warnings.warn(\"The max_iter was reached which means \"\n",
      "/Users/sora/.pyenv/versions/3.8.2/envs/nlp100/lib/python3.8/site-packages/sklearn/linear_model/_sag.py:329: ConvergenceWarning: The max_iter was reached which means the coef_ did not converge\n",
      "  warnings.warn(\"The max_iter was reached which means \"\n",
      "/Users/sora/.pyenv/versions/3.8.2/envs/nlp100/lib/python3.8/site-packages/sklearn/linear_model/_sag.py:329: ConvergenceWarning: The max_iter was reached which means the coef_ did not converge\n",
      "  warnings.warn(\"The max_iter was reached which means \"\n",
      "/Users/sora/.pyenv/versions/3.8.2/envs/nlp100/lib/python3.8/site-packages/sklearn/linear_model/_logistic.py:762: ConvergenceWarning: lbfgs failed to converge (status=1):\n",
      "STOP: TOTAL NO. of ITERATIONS REACHED LIMIT.\n",
      "\n",
      "Increase the number of iterations (max_iter) or scale the data as shown in:\n",
      "    https://scikit-learn.org/stable/modules/preprocessing.html\n",
      "Please also refer to the documentation for alternative solver options:\n",
      "    https://scikit-learn.org/stable/modules/linear_model.html#logistic-regression\n",
      "  n_iter_i = _check_optimize_result(\n",
      "/Users/sora/.pyenv/versions/3.8.2/envs/nlp100/lib/python3.8/site-packages/sklearn/linear_model/_logistic.py:762: ConvergenceWarning: lbfgs failed to converge (status=1):\n",
      "STOP: TOTAL NO. of ITERATIONS REACHED LIMIT.\n",
      "\n",
      "Increase the number of iterations (max_iter) or scale the data as shown in:\n",
      "    https://scikit-learn.org/stable/modules/preprocessing.html\n",
      "Please also refer to the documentation for alternative solver options:\n",
      "    https://scikit-learn.org/stable/modules/linear_model.html#logistic-regression\n",
      "  n_iter_i = _check_optimize_result(\n",
      "/Users/sora/.pyenv/versions/3.8.2/envs/nlp100/lib/python3.8/site-packages/sklearn/linear_model/_sag.py:329: ConvergenceWarning: The max_iter was reached which means the coef_ did not converge\n",
      "  warnings.warn(\"The max_iter was reached which means \"\n",
      "/Users/sora/.pyenv/versions/3.8.2/envs/nlp100/lib/python3.8/site-packages/sklearn/linear_model/_sag.py:329: ConvergenceWarning: The max_iter was reached which means the coef_ did not converge\n",
      "  warnings.warn(\"The max_iter was reached which means \"\n",
      "/Users/sora/.pyenv/versions/3.8.2/envs/nlp100/lib/python3.8/site-packages/sklearn/linear_model/_sag.py:329: ConvergenceWarning: The max_iter was reached which means the coef_ did not converge\n",
      "  warnings.warn(\"The max_iter was reached which means \"\n",
      "/Users/sora/.pyenv/versions/3.8.2/envs/nlp100/lib/python3.8/site-packages/sklearn/linear_model/_sag.py:329: ConvergenceWarning: The max_iter was reached which means the coef_ did not converge\n",
      "  warnings.warn(\"The max_iter was reached which means \"\n",
      "/Users/sora/.pyenv/versions/3.8.2/envs/nlp100/lib/python3.8/site-packages/sklearn/linear_model/_logistic.py:762: ConvergenceWarning: lbfgs failed to converge (status=1):\n",
      "STOP: TOTAL NO. of ITERATIONS REACHED LIMIT.\n",
      "\n",
      "Increase the number of iterations (max_iter) or scale the data as shown in:\n",
      "    https://scikit-learn.org/stable/modules/preprocessing.html\n",
      "Please also refer to the documentation for alternative solver options:\n",
      "    https://scikit-learn.org/stable/modules/linear_model.html#logistic-regression\n",
      "  n_iter_i = _check_optimize_result(\n",
      "/Users/sora/.pyenv/versions/3.8.2/envs/nlp100/lib/python3.8/site-packages/sklearn/linear_model/_logistic.py:762: ConvergenceWarning: lbfgs failed to converge (status=1):\n",
      "STOP: TOTAL NO. of ITERATIONS REACHED LIMIT.\n",
      "\n",
      "Increase the number of iterations (max_iter) or scale the data as shown in:\n",
      "    https://scikit-learn.org/stable/modules/preprocessing.html\n",
      "Please also refer to the documentation for alternative solver options:\n",
      "    https://scikit-learn.org/stable/modules/linear_model.html#logistic-regression\n",
      "  n_iter_i = _check_optimize_result(\n",
      "/Users/sora/.pyenv/versions/3.8.2/envs/nlp100/lib/python3.8/site-packages/sklearn/linear_model/_sag.py:329: ConvergenceWarning: The max_iter was reached which means the coef_ did not converge\n",
      "  warnings.warn(\"The max_iter was reached which means \"\n",
      "/Users/sora/.pyenv/versions/3.8.2/envs/nlp100/lib/python3.8/site-packages/sklearn/linear_model/_sag.py:329: ConvergenceWarning: The max_iter was reached which means the coef_ did not converge\n",
      "  warnings.warn(\"The max_iter was reached which means \"\n",
      "/Users/sora/.pyenv/versions/3.8.2/envs/nlp100/lib/python3.8/site-packages/sklearn/linear_model/_sag.py:329: ConvergenceWarning: The max_iter was reached which means the coef_ did not converge\n",
      "  warnings.warn(\"The max_iter was reached which means \"\n",
      "/Users/sora/.pyenv/versions/3.8.2/envs/nlp100/lib/python3.8/site-packages/sklearn/linear_model/_sag.py:329: ConvergenceWarning: The max_iter was reached which means the coef_ did not converge\n",
      "  warnings.warn(\"The max_iter was reached which means \"\n",
      "/Users/sora/.pyenv/versions/3.8.2/envs/nlp100/lib/python3.8/site-packages/sklearn/linear_model/_logistic.py:762: ConvergenceWarning: lbfgs failed to converge (status=1):\n",
      "STOP: TOTAL NO. of ITERATIONS REACHED LIMIT.\n",
      "\n",
      "Increase the number of iterations (max_iter) or scale the data as shown in:\n",
      "    https://scikit-learn.org/stable/modules/preprocessing.html\n",
      "Please also refer to the documentation for alternative solver options:\n",
      "    https://scikit-learn.org/stable/modules/linear_model.html#logistic-regression\n",
      "  n_iter_i = _check_optimize_result(\n",
      "/Users/sora/.pyenv/versions/3.8.2/envs/nlp100/lib/python3.8/site-packages/sklearn/linear_model/_logistic.py:762: ConvergenceWarning: lbfgs failed to converge (status=1):\n",
      "STOP: TOTAL NO. of ITERATIONS REACHED LIMIT.\n",
      "\n",
      "Increase the number of iterations (max_iter) or scale the data as shown in:\n",
      "    https://scikit-learn.org/stable/modules/preprocessing.html\n",
      "Please also refer to the documentation for alternative solver options:\n",
      "    https://scikit-learn.org/stable/modules/linear_model.html#logistic-regression\n",
      "  n_iter_i = _check_optimize_result(\n",
      "/Users/sora/.pyenv/versions/3.8.2/envs/nlp100/lib/python3.8/site-packages/sklearn/linear_model/_sag.py:329: ConvergenceWarning: The max_iter was reached which means the coef_ did not converge\n",
      "  warnings.warn(\"The max_iter was reached which means \"\n",
      "/Users/sora/.pyenv/versions/3.8.2/envs/nlp100/lib/python3.8/site-packages/sklearn/linear_model/_sag.py:329: ConvergenceWarning: The max_iter was reached which means the coef_ did not converge\n",
      "  warnings.warn(\"The max_iter was reached which means \"\n",
      "/Users/sora/.pyenv/versions/3.8.2/envs/nlp100/lib/python3.8/site-packages/sklearn/linear_model/_sag.py:329: ConvergenceWarning: The max_iter was reached which means the coef_ did not converge\n",
      "  warnings.warn(\"The max_iter was reached which means \"\n",
      "/Users/sora/.pyenv/versions/3.8.2/envs/nlp100/lib/python3.8/site-packages/sklearn/linear_model/_sag.py:329: ConvergenceWarning: The max_iter was reached which means the coef_ did not converge\n",
      "  warnings.warn(\"The max_iter was reached which means \"\n",
      "/Users/sora/.pyenv/versions/3.8.2/envs/nlp100/lib/python3.8/site-packages/sklearn/linear_model/_logistic.py:762: ConvergenceWarning: lbfgs failed to converge (status=1):\n",
      "STOP: TOTAL NO. of ITERATIONS REACHED LIMIT.\n",
      "\n",
      "Increase the number of iterations (max_iter) or scale the data as shown in:\n",
      "    https://scikit-learn.org/stable/modules/preprocessing.html\n",
      "Please also refer to the documentation for alternative solver options:\n",
      "    https://scikit-learn.org/stable/modules/linear_model.html#logistic-regression\n",
      "  n_iter_i = _check_optimize_result(\n",
      "/Users/sora/.pyenv/versions/3.8.2/envs/nlp100/lib/python3.8/site-packages/sklearn/linear_model/_logistic.py:762: ConvergenceWarning: lbfgs failed to converge (status=1):\n",
      "STOP: TOTAL NO. of ITERATIONS REACHED LIMIT.\n",
      "\n",
      "Increase the number of iterations (max_iter) or scale the data as shown in:\n",
      "    https://scikit-learn.org/stable/modules/preprocessing.html\n",
      "Please also refer to the documentation for alternative solver options:\n",
      "    https://scikit-learn.org/stable/modules/linear_model.html#logistic-regression\n",
      "  n_iter_i = _check_optimize_result(\n",
      "/Users/sora/.pyenv/versions/3.8.2/envs/nlp100/lib/python3.8/site-packages/sklearn/linear_model/_sag.py:329: ConvergenceWarning: The max_iter was reached which means the coef_ did not converge\n",
      "  warnings.warn(\"The max_iter was reached which means \"\n",
      "/Users/sora/.pyenv/versions/3.8.2/envs/nlp100/lib/python3.8/site-packages/sklearn/linear_model/_sag.py:329: ConvergenceWarning: The max_iter was reached which means the coef_ did not converge\n",
      "  warnings.warn(\"The max_iter was reached which means \"\n",
      "/Users/sora/.pyenv/versions/3.8.2/envs/nlp100/lib/python3.8/site-packages/sklearn/linear_model/_sag.py:329: ConvergenceWarning: The max_iter was reached which means the coef_ did not converge\n",
      "  warnings.warn(\"The max_iter was reached which means \"\n",
      "/Users/sora/.pyenv/versions/3.8.2/envs/nlp100/lib/python3.8/site-packages/sklearn/linear_model/_sag.py:329: ConvergenceWarning: The max_iter was reached which means the coef_ did not converge\n",
      "  warnings.warn(\"The max_iter was reached which means \"\n"
     ]
    }
   ],
   "source": [
    "C = np.logspace(-5, 4, 10, base=10)\n",
    "solver = ['newton-cg', 'lbfgs', 'liblinear', 'sag', 'saga']\n",
    "class_weight = [None, 'balanced']\n",
    "scores = []\n",
    "\n",
    "for c, s, w in itertools.product(C, solver, class_weight):\n",
    "    scores.append({'score': calc_scores(c, s, w), 'solver':s, 'class_weight':w})"
   ]
  },
  {
   "cell_type": "code",
   "execution_count": 33,
   "metadata": {},
   "outputs": [
    {
     "name": "stdout",
     "output_type": "stream",
     "text": [
      "{'score': [0.9990629685157422, 0.9272863568215892, 0.9175412293853074], 'solver': 'liblinear', 'class_weight': 'balanced'}\n"
     ]
    }
   ],
   "source": [
    "scores.sort(key=lambda x: x['score'][1], reverse=True)\n",
    "print(scores[0])"
   ]
  }
 ],
 "metadata": {
  "kernelspec": {
   "display_name": "Python 3",
   "language": "python",
   "name": "python3"
  },
  "language_info": {
   "codemirror_mode": {
    "name": "ipython",
    "version": 3
   },
   "file_extension": ".py",
   "mimetype": "text/x-python",
   "name": "python",
   "nbconvert_exporter": "python",
   "pygments_lexer": "ipython3",
   "version": "3.8.2"
  }
 },
 "nbformat": 4,
 "nbformat_minor": 4
}
