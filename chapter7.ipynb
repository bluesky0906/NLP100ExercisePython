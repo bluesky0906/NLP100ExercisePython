{
 "cells": [
  {
   "cell_type": "code",
   "execution_count": null,
   "metadata": {},
   "outputs": [],
   "source": [
    "import pandas as pd\n",
    "from sklearn.cluster import KMeans\n",
    "import matplotlib.pyplot as plt\n",
    "from scipy.cluster.hierarchy import dendrogram, linkage\n",
    "from sklearn.manifold import TSNE"
   ]
  },
  {
   "cell_type": "markdown",
   "metadata": {},
   "source": [
    "### 60. 単語ベクトルの読み込みと表示"
   ]
  },
  {
   "cell_type": "code",
   "execution_count": null,
   "metadata": {},
   "outputs": [],
   "source": [
    "import gensim\n",
    "model = gensim.models.KeyedVectors.load_word2vec_format('data/chap7/GoogleNews-vectors-negative300.bin.gz', binary=True)\n",
    "model['United_States']"
   ]
  },
  {
   "cell_type": "markdown",
   "metadata": {},
   "source": [
    "### 61. 単語の類似度"
   ]
  },
  {
   "cell_type": "code",
   "execution_count": null,
   "metadata": {},
   "outputs": [],
   "source": [
    "model.similarity('United_States','U.S.')"
   ]
  },
  {
   "cell_type": "markdown",
   "metadata": {},
   "source": [
    "### 62. 類似度の高い単語10件"
   ]
  },
  {
   "cell_type": "code",
   "execution_count": null,
   "metadata": {},
   "outputs": [],
   "source": [
    "model.most_similar('United_States',topn=10)"
   ]
  },
  {
   "cell_type": "markdown",
   "metadata": {},
   "source": [
    "### 63. 加法構成性によるアナロジー"
   ]
  },
  {
   "cell_type": "code",
   "execution_count": null,
   "metadata": {},
   "outputs": [],
   "source": [
    "model.most_similar(positive=['Spain', 'Athens'], negative=['Madrid'],topn=10)"
   ]
  },
  {
   "cell_type": "markdown",
   "metadata": {},
   "source": [
    "### 64. アナロジーデータでの実験"
   ]
  },
  {
   "cell_type": "code",
   "execution_count": null,
   "metadata": {},
   "outputs": [],
   "source": [
    "df = pd.read_table('data/chap7/questions-words.txt', sep=' ', header=None, skiprows=[0])\n",
    "with open('data/chap7/questions-words.txt') as f:\n",
    "    questions = f.readlines()\n",
    "with open('data/chap7/questions-words-new.txt', 'w') as f:\n",
    "    for i, question in enumerate(questions):\n",
    "        words = question.split()\n",
    "        if len(words)==4:\n",
    "            ans = model.most_similar(positive=[words[1], words[2]], negative=[words[0]],topn=1)[0]\n",
    "            words += [ans[0],str(ans[1])]\n",
    "            output = ' '.join(words)+'\\n'\n",
    "        else:\n",
    "            output = question\n",
    "        f.write(output)"
   ]
  },
  {
   "cell_type": "markdown",
   "metadata": {},
   "source": [
    "### 65. アナロジータスクでの正解率"
   ]
  },
  {
   "cell_type": "code",
   "execution_count": null,
   "metadata": {},
   "outputs": [],
   "source": [
    "with open('data/chap7/questions-words-new.txt') as f:\n",
    "    questions = f.readlines()\n",
    "correct = 0\n",
    "count = 0\n",
    "for q in questions:\n",
    "    words = q.split()\n",
    "    if len(words)== 6:\n",
    "        count += 1\n",
    "        if q[3] == q[4]:\n",
    "            correct += 1\n",
    "\n",
    "print(correct / count)"
   ]
  },
  {
   "cell_type": "markdown",
   "metadata": {},
   "source": [
    "### 66. WordSimilarity-353での評価"
   ]
  },
  {
   "cell_type": "code",
   "execution_count": null,
   "metadata": {},
   "outputs": [],
   "source": [
    "df = pd.read_csv('data/chap7/combined.csv')\n",
    "sim = []\n",
    "for i in range(len(df)):\n",
    "    line = df.iloc[i]\n",
    "    sim.append(model.similarity(line['Word 1'], line['Word 2']))\n",
    "df['w2v'] = sim\n",
    "df[['Human (mean)', 'w2v']].corr(method='spearman')"
   ]
  },
  {
   "cell_type": "markdown",
   "metadata": {},
   "source": [
    "### 67. k-meansクラスタリング"
   ]
  },
  {
   "cell_type": "code",
   "execution_count": null,
   "metadata": {},
   "outputs": [],
   "source": [
    "with open('data/chap7/country.txt') as f:\n",
    "    lines = f.readlines()\n",
    "\n",
    "dic = {'United States of America':'United_States',\n",
    "       'Russian Federation':'Russia',\n",
    "       'Micronesia (Federated States of)': 'Palau_Micronesia',\n",
    "       'Democratic Republic of the Congo': 'DR_Congo',\n",
    "       \"Democratic People's Republic of Korea\": 'Korea'}\n",
    "vec = []\n",
    "counries = []\n",
    "for line in lines:\n",
    "    country = line.split('　　')[-1].strip()\n",
    "    if country in dic:\n",
    "        country = dic[country]\n",
    "    country = country.replace(' ', '_').replace('-','_')\n",
    "    \n",
    "    try:\n",
    "        vec.append(model[country])\n",
    "        countries.append(country)\n",
    "    except:\n",
    "        continue\n",
    "kmeans = KMeans(n_clusters=5, random_state=0)\n",
    "kmeans.fit(vec)\n",
    "for c,l in zip(countries, kmeans.labels_):\n",
    "    print (c,l)"
   ]
  },
  {
   "cell_type": "markdown",
   "metadata": {},
   "source": [
    "### 68. Ward法によるクラスタリング"
   ]
  },
  {
   "cell_type": "code",
   "execution_count": null,
   "metadata": {},
   "outputs": [],
   "source": [
    "plt.figure(figsize=(32.0, 24.0))\n",
    "link = linkage(vec, method='ward')\n",
    "dendrogram(link, labels=countries,leaf_rotation=90,leaf_font_size=10)\n",
    "plt.show()"
   ]
  },
  {
   "cell_type": "markdown",
   "metadata": {},
   "source": [
    "### 69. t-SNEによる可視化"
   ]
  },
  {
   "cell_type": "code",
   "execution_count": null,
   "metadata": {},
   "outputs": [],
   "source": [
    "vec_embedded = TSNE(n_components=2).fit_transform(vec)\n",
    "vec_embedded_t = list(zip(*vec_embedded)) # 転置\n",
    "fig, ax = plt.subplots(figsize=(16, 12))\n",
    "plt.scatter(*vec_embedded_t)\n",
    "for i, c in enumerate(countries):\n",
    "    ax.annotate(c, (vec_embedded[i][0],vec_embedded[i][1]))"
   ]
  }
 ],
 "metadata": {
  "kernelspec": {
   "display_name": "Python 3",
   "language": "python",
   "name": "python3"
  },
  "language_info": {
   "codemirror_mode": {
    "name": "ipython",
    "version": 3
   },
   "file_extension": ".py",
   "mimetype": "text/x-python",
   "name": "python",
   "nbconvert_exporter": "python",
   "pygments_lexer": "ipython3",
   "version": "3.8.2"
  }
 },
 "nbformat": 4,
 "nbformat_minor": 4
}
