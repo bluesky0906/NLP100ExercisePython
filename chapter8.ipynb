{
 "cells": [
  {
   "cell_type": "code",
   "execution_count": null,
   "metadata": {},
   "outputs": [],
   "source": [
    "import pandas as pd\n",
    "import gensim\n",
    "import numpy as np\n",
    "import torch"
   ]
  },
  {
   "cell_type": "markdown",
   "metadata": {},
   "source": [
    "### 70. 単語ベクトルの和による特徴量"
   ]
  },
  {
   "cell_type": "code",
   "execution_count": null,
   "metadata": {},
   "outputs": [],
   "source": [
    "train = pd.read_csv('data/chap6/train.txt',sep='\\t',header=None)\n",
    "valid = pd.read_csv('data/chap6/valid.txt',sep='\\t',header=None)\n",
    "test = pd.read_csv('data/chap6/test.txt',sep='\\t',header=None)"
   ]
  },
  {
   "cell_type": "code",
   "execution_count": null,
   "metadata": {},
   "outputs": [],
   "source": [
    "model = gensim.models.KeyedVectors.load_word2vec_format('data/chap7/GoogleNews-vectors-negative300.bin.gz', binary=True)"
   ]
  },
  {
   "cell_type": "code",
   "execution_count": null,
   "metadata": {},
   "outputs": [],
   "source": [
    "d = {'b':0, 't':1, 'e':2, 'm':3}\n",
    "y_train = train.iloc[:,0].replace(d)\n",
    "y_train.to_csv('data/chap8/y_train.txt',header=False, index=False)\n",
    "y_valid = valid.iloc[:,0].replace(d)\n",
    "y_valid.to_csv('data/chap8/y_valid.txt',header=False, index=False)\n",
    "y_test = test.iloc[:,0].replace(d)\n",
    "y_test.to_csv('data/chap8/y_test.txt',header=False, index=False)"
   ]
  },
  {
   "cell_type": "code",
   "execution_count": null,
   "metadata": {},
   "outputs": [],
   "source": [
    "def write_X(file_name, df):\n",
    "    with open(file_name, 'w') as f:\n",
    "        for text in df.iloc[:, 1]:\n",
    "            vectors = []\n",
    "            for word in text.split():\n",
    "                if word in model.vocab:\n",
    "                    vectors.append(model[word])\n",
    "            if (len(vectors)==0):\n",
    "                vector = np.zeros(300)\n",
    "            else:\n",
    "                vectors = np.array(vectors)\n",
    "                vector = vectors.mean(axis=0)\n",
    "            vector = vector.astype(np.str).tolist()\n",
    "            output = ' '.join(vector)+'\\n'\n",
    "            f.write(output)"
   ]
  },
  {
   "cell_type": "code",
   "execution_count": null,
   "metadata": {},
   "outputs": [],
   "source": [
    "write_X('data/chap8/X_train.txt', train)\n",
    "write_X('data/chap8/X_valid.txt', valid)\n",
    "write_X('data/chap8/X_test.txt', test)"
   ]
  },
  {
   "cell_type": "markdown",
   "metadata": {},
   "source": [
    "### 71. 単層ニューラルネットワークによる予測"
   ]
  },
  {
   "cell_type": "code",
   "execution_count": null,
   "metadata": {},
   "outputs": [],
   "source": [
    "X_train = np.loadtxt('data/chap8/X_train.txt', delimiter=' ')\n",
    "X_train = torch.tensor(X_train, dtype=torch.float32)\n",
    "W = torch.randn(300, 4, requires_grad=True)\n",
    "softmax = torch.nn.Softmax(dim=1)\n",
    "print (softmax(torch.matmul(X_train[:1], W)))\n",
    "print (softmax(torch.matmul(X_train[:4], W)))"
   ]
  },
  {
   "cell_type": "markdown",
   "metadata": {},
   "source": [
    "### 72. 損失と勾配の計算"
   ]
  },
  {
   "cell_type": "code",
   "execution_count": null,
   "metadata": {},
   "outputs": [],
   "source": [
    "y_train = np.loadtxt('data/chap8/y_train.txt')\n",
    "y_train = torch.tensor(y_train, dtype=torch.int64)\n",
    "loss = torch.nn.CrossEntropyLoss()\n",
    "print (loss(torch.matmul(X_train[:1], W),y_train[:1]))\n",
    "print (loss(torch.matmul(X_train[:4], W),y_train[:4]))"
   ]
  },
  {
   "cell_type": "code",
   "execution_count": null,
   "metadata": {},
   "outputs": [],
   "source": [
    "ans = [] # 以下、確認\n",
    "for s,i in zip(softmax(torch.matmul(X_train[:4], W)),y_train[:4]):\n",
    "    ans.append(-np.log(s[i].detach()))\n",
    "print (np.mean(ans))"
   ]
  },
  {
   "cell_type": "markdown",
   "metadata": {},
   "source": [
    "### 73. 確率的勾配降下法による学習"
   ]
  },
  {
   "cell_type": "code",
   "execution_count": null,
   "metadata": {},
   "outputs": [],
   "source": [
    "from tqdm import tqdm"
   ]
  },
  {
   "cell_type": "code",
   "execution_count": null,
   "metadata": {},
   "outputs": [],
   "source": [
    "W_73 = W\n",
    "loss_fn = torch.nn.CrossEntropyLoss()\n",
    "optimizer = torch.optim.SGD([W_73], lr=0.01)\n",
    "\n",
    "for epoch in range(100):\n",
    "    optimizer.zero_grad()\n",
    "    y = torch.matmul(X_train, W_73)\n",
    "    loss = loss_fn(y, y_train)\n",
    "    loss.backward()\n",
    "    optimizer.step()"
   ]
  },
  {
   "cell_type": "code",
   "execution_count": null,
   "metadata": {},
   "outputs": [],
   "source": [
    "X_train.shape\n",
    "W.shape"
   ]
  },
  {
   "cell_type": "code",
   "execution_count": null,
   "metadata": {},
   "outputs": [],
   "source": [
    "ans = [] # 以下、確認\n",
    "for s,i in zip(softmax(torch.matmul(X_train[:4], W_73)),y_train[:4]):\n",
    "    ans.append(-np.log(s[i].detach()))\n",
    "print (np.mean(ans))"
   ]
  },
  {
   "cell_type": "markdown",
   "metadata": {},
   "source": [
    "### 74. 正解率の計測"
   ]
  },
  {
   "cell_type": "code",
   "execution_count": null,
   "metadata": {},
   "outputs": [],
   "source": [
    "def accuracy(pred, label):\n",
    "    pred = np.argmax(pred.data.numpy(), axis=1)\n",
    "    label = label.data.numpy()\n",
    "    return (pred == label).mean()"
   ]
  },
  {
   "cell_type": "code",
   "execution_count": null,
   "metadata": {},
   "outputs": [],
   "source": [
    "X_valid = np.loadtxt('data/chap8/X_valid.txt', delimiter=' ')\n",
    "X_valid = torch.tensor(X_valid, dtype=torch.float32)\n",
    "y_valid = np.loadtxt('data/chap8/y_valid.txt')\n",
    "y_valid = torch.tensor(y_valid, dtype=torch.int64)\n",
    "\n",
    "pred = torch.matmul(X_valid, W_73)\n",
    "print(accuracy(pred, y_valid))"
   ]
  },
  {
   "cell_type": "markdown",
   "metadata": {},
   "source": [
    "### 75. 損失と正解率のプロット"
   ]
  },
  {
   "cell_type": "code",
   "execution_count": null,
   "metadata": {},
   "outputs": [],
   "source": [
    "%load_ext tensorboard\n",
    "!rm -rf ./runs\n",
    "%tensorboard --logdir ./runs\n",
    "from torch.utils.tensorboard import SummaryWriter\n",
    "writer = SummaryWriter()"
   ]
  },
  {
   "cell_type": "code",
   "execution_count": null,
   "metadata": {},
   "outputs": [],
   "source": [
    "W_75 = W\n",
    "loss_fn = torch.nn.CrossEntropyLoss()\n",
    "optimizer = torch.optim.SGD([W_75], lr=0.01)\n",
    "\n",
    "for epoch in range(1000):\n",
    "    optimizer.zero_grad()\n",
    "    y = torch.matmul(X_train, W_75)\n",
    "    loss = loss_fn(y, y_train)\n",
    "    loss.backward()\n",
    "    optimizer.step()\n",
    "    with torch.no_grad():\n",
    "        y_pred = torch.matmul(X_train, W_75)\n",
    "        loss = loss_fn(y_pred, y_train) \n",
    "        writer.add_scalar('Loss/train', loss, epoch)\n",
    "        writer.add_scalar('Accuracy/train', accuracy(y_pred, y_train), epoch)\n",
    "        y_pred = torch.matmul(X_valid, W_75)\n",
    "        loss = loss_fn(y_pred, y_valid)\n",
    "        writer.add_scalar('Loss/valid', loss, epoch)\n",
    "        writer.add_scalar('Accuracy/valid', accuracy(y_pred,y_valid), epoch)\n",
    "\n",
    "    "
   ]
  },
  {
   "cell_type": "markdown",
   "metadata": {},
   "source": [
    "### 76. チェックポイント"
   ]
  },
  {
   "cell_type": "code",
   "execution_count": null,
   "metadata": {},
   "outputs": [],
   "source": [
    "W_76 = W\n",
    "loss_fn = torch.nn.CrossEntropyLoss()\n",
    "optimizer = torch.optim.SGD([W_76], lr=0.01)\n",
    "\n",
    "for epoch in range(1000):\n",
    "    optimizer.zero_grad()\n",
    "    y = torch.matmul(X_train, W_76)\n",
    "    loss = loss_fn(y, y_train)\n",
    "    loss.backward()\n",
    "    optimizer.step()\n",
    "    with torch.no_grad():\n",
    "        y_pred = torch.matmul(X_train, W_76)\n",
    "        loss = loss_fn(y_pred, y_train) \n",
    "        y_pred = torch.matmul(X_valid, W_76)\n",
    "        loss = loss_fn(y_pred, y_valid)\n",
    "        if epoch%100 == 0:\n",
    "            torch.save(W, f'data/chap8/{str(epoch)}.model')\n",
    "            torch.save(optimizer.state_dict(), f'data/chap8/{str(epoch)}.parm')"
   ]
  },
  {
   "cell_type": "markdown",
   "metadata": {},
   "source": [
    "### 77. ミニバッチ化"
   ]
  },
  {
   "cell_type": "code",
   "execution_count": null,
   "metadata": {},
   "outputs": [],
   "source": [
    "import time\n",
    "from torch.utils.data import TensorDataset, DataLoader"
   ]
  },
  {
   "cell_type": "code",
   "execution_count": null,
   "metadata": {},
   "outputs": [],
   "source": [
    "class DataSet:\n",
    "    def __init__(self, X, y):\n",
    "        self.X = X # 入力\n",
    "        self.t = y # 出力\n",
    "\n",
    "    def __len__(self):\n",
    "        return len(self.X) # データ数(10)を返す\n",
    "\n",
    "    def __getitem__(self, index):\n",
    "        # index番目の入出力ペアを返す\n",
    "        return self.X[index], self.t[index]"
   ]
  },
  {
   "cell_type": "code",
   "execution_count": null,
   "metadata": {},
   "outputs": [],
   "source": [
    "loss_fn = torch.nn.CrossEntropyLoss()\n",
    "W_77 = W\n",
    "\n",
    "dataset = DataSet(X_train, y_train)\n",
    "ls_bs = [2**i for i in range(15)]\n",
    "ls_time = []\n",
    "for bs in ls_bs:\n",
    "    dataloader = torch.utils.data.DataLoader(dataset, batch_size=bs, shuffle=True)\n",
    "    optimizer = torch.optim.SGD([W_77], lr=0.01)\n",
    "    for epoch in range(1):\n",
    "        start = time.time()\n",
    "        for data in dataloader:\n",
    "            optimizer.zero_grad()\n",
    "            X = data[0]\n",
    "            y = torch.matmul(X, W_77)\n",
    "            loss = loss_fn(y, data[1])\n",
    "            loss.backward()\n",
    "            optimizer.step()\n",
    "        ls_time.append(time.time()-start)\n",
    "print(ls_time)"
   ]
  },
  {
   "cell_type": "markdown",
   "metadata": {},
   "source": [
    "### 79. 多層ニューラルネットワーク"
   ]
  },
  {
   "cell_type": "code",
   "execution_count": null,
   "metadata": {},
   "outputs": [],
   "source": [
    "!git add ."
   ]
  },
  {
   "cell_type": "code",
   "execution_count": null,
   "metadata": {},
   "outputs": [],
   "source": [
    "!git commit -m \"update chapter8\""
   ]
  },
  {
   "cell_type": "code",
   "execution_count": null,
   "metadata": {},
   "outputs": [],
   "source": [
    "!git push"
   ]
  },
  {
   "cell_type": "code",
   "execution_count": null,
   "metadata": {},
   "outputs": [],
   "source": []
  }
 ],
 "metadata": {
  "kernelspec": {
   "display_name": "Python 3",
   "language": "python",
   "name": "python3"
  },
  "language_info": {
   "codemirror_mode": {
    "name": "ipython",
    "version": 3
   },
   "file_extension": ".py",
   "mimetype": "text/x-python",
   "name": "python",
   "nbconvert_exporter": "python",
   "pygments_lexer": "ipython3",
   "version": "3.8.2"
  }
 },
 "nbformat": 4,
 "nbformat_minor": 4
}
