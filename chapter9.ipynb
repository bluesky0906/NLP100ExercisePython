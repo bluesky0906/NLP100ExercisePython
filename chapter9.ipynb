{
 "cells": [
  {
   "cell_type": "markdown",
   "metadata": {},
   "source": [
    "### 80. ID番号への変換"
   ]
  },
  {
   "cell_type": "code",
   "execution_count": null,
   "metadata": {},
   "outputs": [],
   "source": [
    "import pandas as pd\n",
    "import numpy as np\n",
    "from sklearn.feature_extraction.text import CountVectorizer"
   ]
  },
  {
   "cell_type": "code",
   "execution_count": null,
   "metadata": {},
   "outputs": [],
   "source": [
    "train = pd.read_csv('data/chap6/train.txt',sep='\\t',header=None)\n",
    "valid = pd.read_csv('data/chap6/valid.txt',sep='\\t',header=None)\n",
    "test = pd.read_csv('data/chap6/test.txt',sep='\\t',header=None)"
   ]
  },
  {
   "cell_type": "code",
   "execution_count": null,
   "metadata": {},
   "outputs": [],
   "source": [
    "vectorizer = CountVectorizer(min_df=2)\n",
    "train_title = train.iloc[:,1].str.lower()\n",
    "cnt = vectorizer.fit_transform(train_title).toarray()\n",
    "sm = cnt.sum(axis=0)\n",
    "idx = np.argsort(sm)[::-1]\n",
    "words = np.array(vectorizer.get_feature_names())[idx]"
   ]
  },
  {
   "cell_type": "code",
   "execution_count": null,
   "metadata": {},
   "outputs": [],
   "source": [
    "train_title = train[1].str.lower()\n",
    "cnt = vectorizer.fit_transform(train_title).toarray()\n",
    "sm = cnt.sum(axis=0)\n",
    "idx = np.argsort(sm)[::-1]\n",
    "words = np.array(vectorizer.get_feature_names())[idx]"
   ]
  },
  {
   "cell_type": "code",
   "execution_count": null,
   "metadata": {},
   "outputs": [],
   "source": [
    "d = dict()\n",
    "for i in range(len(words)):\n",
    "    d[words[i]] = i+1\n",
    "def get_id(sentence):\n",
    "    r = []\n",
    "    for word in sentence:\n",
    "        r.append(d.get(word,0))\n",
    "    return r\n",
    "\n",
    "def df2id(df):\n",
    "    ids = []\n",
    "    for i in df.iloc[:,1].str.lower():\n",
    "        ids.append(get_id(i.split()))\n",
    "    return ids"
   ]
  },
  {
   "cell_type": "code",
   "execution_count": null,
   "metadata": {},
   "outputs": [],
   "source": [
    "X_train = df2id(train)\n",
    "X_valid = df2id(valid)\n",
    "X_test = df2id(test)"
   ]
  },
  {
   "cell_type": "markdown",
   "metadata": {},
   "source": [
    "### 81. RNNによる予測"
   ]
  },
  {
   "cell_type": "code",
   "execution_count": null,
   "metadata": {},
   "outputs": [],
   "source": [
    "import torch"
   ]
  },
  {
   "cell_type": "code",
   "execution_count": null,
   "metadata": {},
   "outputs": [],
   "source": [
    "dw = 300\n",
    "dh = 50\n",
    "class RNN(torch.nn.Module):\n",
    "    def __init__(self):\n",
    "        super().__init__()\n",
    "        self.emb = torch.nn.Embedding(len(words)+1,dw)\n",
    "        self.rnn = torch.nn.RNN(dw,dh,batch_first=True)\n",
    "        self.linear = torch.nn.Linear(dh,4)\n",
    "        self.softmax = torch.nn.Softmax()\n",
    "    def forward(self, x, h=None):\n",
    "        x = self.emb(x)\n",
    "        y, h = self.rnn(x, h)\n",
    "        y = y[:,-1,:] # 最後のステップ\n",
    "        y = self.linear(y)\n",
    "        y = self.softmax(y)\n",
    "        return y"
   ]
  },
  {
   "cell_type": "markdown",
   "metadata": {},
   "source": [
    "### 82. 確率的勾配降下法による学習"
   ]
  },
  {
   "cell_type": "code",
   "execution_count": null,
   "metadata": {},
   "outputs": [],
   "source": [
    "from torch.utils.data import TensorDataset, DataLoader\n",
    "from torch.utils.tensorboard import SummaryWriter\n",
    "%load_ext tensorboard\n",
    "!rm -rf ./runs\n",
    "%tensorboard --logdir ./runs\n",
    "writer = SummaryWriter()"
   ]
  },
  {
   "cell_type": "code",
   "execution_count": null,
   "metadata": {},
   "outputs": [],
   "source": [
    "PAD = len(words) + 1 # tensorの長さの調整\n",
    "n_vocab = len(words) + 2\n",
    "\n",
    "def list2tensor(data, max_len):\n",
    "    new = []\n",
    "    for d in data:\n",
    "        if len(d) > max_len:\n",
    "            d = d[:max_len]\n",
    "        else:\n",
    "            d += [PAD] * (max_len - len(d))\n",
    "        new.append(d)\n",
    "    return torch.tensor(new, dtype=torch.int64)"
   ]
  },
  {
   "cell_type": "code",
   "execution_count": null,
   "metadata": {},
   "outputs": [],
   "source": [
    "def accuracy(pred, label):\n",
    "    pred = np.argmax(pred.data.numpy(), axis=1)\n",
    "    label = label.data.numpy()\n",
    "    return (pred == label).mean()"
   ]
  },
  {
   "cell_type": "code",
   "execution_count": null,
   "metadata": {},
   "outputs": [],
   "source": [
    "dw = 300\n",
    "dh = 50\n",
    "class RNN(torch.nn.Module):\n",
    "    def __init__(self):\n",
    "        super().__init__()\n",
    "        self.emb = torch.nn.Embedding(n_vocab,dw,padding_idx=PAD) # (語彙数(行), 次元(列))の分散表現, 最後の行がPADの分散表現\n",
    "        self.rnn = torch.nn.RNN(dw,dh,batch_first=True)\n",
    "        self.linear = torch.nn.Linear(dh,4)\n",
    "        self.softmax = torch.nn.Softmax()\n",
    "    def forward(self, x, h=None):\n",
    "        x = self.emb(x)\n",
    "        y, h = self.rnn(x, h)\n",
    "        y = y[:,-1,:] # 最後のステップ\n",
    "        y = self.linear(y)\n",
    "        # y = self.softmax(y) # torch.nn.CrossEntropyLoss()がsoftmaxは含む\n",
    "        return y"
   ]
  },
  {
   "cell_type": "code",
   "execution_count": null,
   "metadata": {},
   "outputs": [],
   "source": [
    "max_len = 10\n",
    "\n",
    "X_train = df2id(train)\n",
    "X_valid = df2id(valid)\n",
    "X_test = df2id(test)\n",
    "\n",
    "X_train = list2tensor(X_train,max_len)\n",
    "X_valid = list2tensor(X_valid,max_len)\n",
    "X_test = list2tensor(X_test,max_len)\n",
    "\n",
    "y_train = np.loadtxt('data/chap8/y_train.txt')\n",
    "y_train = torch.tensor(y_train, dtype=torch.int64)\n",
    "y_valid = np.loadtxt('data/chap8/y_valid.txt')\n",
    "y_valid = torch.tensor(y_valid, dtype=torch.int64)\n",
    "y_test = np.loadtxt('data/chap8/y_test.txt')\n",
    "y_test = torch.tensor(y_test, dtype=torch.int64)"
   ]
  },
  {
   "cell_type": "code",
   "execution_count": null,
   "metadata": {},
   "outputs": [],
   "source": [
    "model = RNN()\n",
    "ds = TensorDataset(X_train, y_train)\n",
    "# DataLoaderを作成\n",
    "loader = DataLoader(ds, batch_size=1, shuffle=True)\n",
    "loss_fn = torch.nn.CrossEntropyLoss()\n",
    "optimizer = torch.optim.SGD(model.parameters(), lr=1e-3)"
   ]
  },
  {
   "cell_type": "code",
   "execution_count": null,
   "metadata": {},
   "outputs": [],
   "source": [
    "for epoch in range(10):\n",
    "    for xx, yy in loader:\n",
    "        y_pred = model(xx)\n",
    "        loss = loss_fn(y_pred, yy)\n",
    "        optimizer.zero_grad()\n",
    "        loss.backward()\n",
    "        optimizer.step()\n",
    "    with torch.no_grad(): # パラメータの更新はしない\n",
    "        y_pred = model(X_train)\n",
    "        loss = loss_fn(y_pred, y_train) \n",
    "        writer.add_scalar('Loss/train', loss, epoch)\n",
    "        writer.add_scalar('Accuracy/train', accuracy(y_pred,y_train), epoch)\n",
    "        print(\"train\")\n",
    "        print (accuracy(y_pred,y_train))\n",
    "        print(loss)\n",
    "        \n",
    "        y_pred = model(X_valid)\n",
    "        loss = loss_fn(y_pred, y_valid)\n",
    "        writer.add_scalar('Loss/valid', loss, epoch)\n",
    "        writer.add_scalar('Accuracy/valid', accuracy(y_pred,y_valid), epoch)\n",
    "        print(\"valid\")\n",
    "        print (accuracy(y_pred,y_valid))\n",
    "        print(loss)"
   ]
  },
  {
   "cell_type": "markdown",
   "metadata": {},
   "source": [
    "### 84. 単語ベクトルの導入"
   ]
  },
  {
   "cell_type": "code",
   "execution_count": null,
   "metadata": {},
   "outputs": [],
   "source": [
    "max_len = 10\n",
    "\n",
    "X_train = df2id(train)\n",
    "X_valid = df2id(valid)\n",
    "X_test = df2id(test)\n",
    "\n",
    "X_train = list2tensor(X_train,max_len)\n",
    "X_valid = list2tensor(X_valid,max_len)\n",
    "X_test = list2tensor(X_test,max_len)\n",
    "\n",
    "y_train = np.loadtxt('data/chap8/y_train.txt')\n",
    "y_train = torch.tensor(y_train, dtype=torch.int64)\n",
    "y_valid = np.loadtxt('data/chap8/y_valid.txt')\n",
    "y_valid = torch.tensor(y_valid, dtype=torch.int64)\n",
    "y_test = np.loadtxt('data/chap8/y_test.txt')\n",
    "y_test = torch.tensor(y_test, dtype=torch.int64)"
   ]
  },
  {
   "cell_type": "code",
   "execution_count": null,
   "metadata": {},
   "outputs": [],
   "source": [
    "import gensim\n",
    "emb = gensim.models.KeyedVectors.load_word2vec_format('data/chap7/GoogleNews-vectors-negative300.bin.gz', binary=True)"
   ]
  },
  {
   "cell_type": "code",
   "execution_count": null,
   "metadata": {},
   "outputs": [],
   "source": [
    "model = RNN()"
   ]
  },
  {
   "cell_type": "code",
   "execution_count": null,
   "metadata": {},
   "outputs": [],
   "source": [
    "for k,v in d.items():\n",
    "    if k in emb.vocab:\n",
    "        model.emb.weight[v] = torch.tensor(emb[k], dtype=torch.float32)\n",
    "model.emb.weight = torch.nn.Parameter(model.emb.weight) # レイヤーのparameterにする"
   ]
  },
  {
   "cell_type": "code",
   "execution_count": null,
   "metadata": {},
   "outputs": [],
   "source": [
    "ds = TensorDataset(X_train, y_train)\n",
    "# DataLoaderを作成\n",
    "loader = DataLoader(ds, batch_size=1, shuffle=True)\n",
    "loss_fn = torch.nn.CrossEntropyLoss()\n",
    "optimizer = torch.optim.SGD(model.parameters(), lr=1e-3)"
   ]
  },
  {
   "cell_type": "code",
   "execution_count": null,
   "metadata": {},
   "outputs": [],
   "source": [
    "for epoch in range(10):\n",
    "    print(epoch)\n",
    "    for xx, yy in loader:\n",
    "        y_pred = model(xx)\n",
    "        loss = loss_fn(y_pred, yy)\n",
    "        optimizer.zero_grad()\n",
    "        loss.backward()\n",
    "        optimizer.step()\n",
    "    with torch.no_grad(): # パラメータの更新はしない\n",
    "        y_pred = model(X_train)\n",
    "        loss = loss_fn(y_pred, y_train) \n",
    "        #writer.add_scalar('Loss/train', loss, epoch)\n",
    "        #writer.add_scalar('Accuracy/train', accuracy(y_pred,y_train), epoch)\n",
    "        print(\"train\")\n",
    "        print (accuracy(y_pred,y_train))\n",
    "        print(loss)\n",
    "        \n",
    "        y_pred = model(X_valid)\n",
    "        loss = loss_fn(y_pred, y_valid)\n",
    "        #writer.add_scalar('Loss/valid', loss, epoch)\n",
    "        #writer.add_scalar('Accuracy/valid', accuracy(y_pred,y_valid), epoch)\n",
    "        print(\"valid\")\n",
    "        print (accuracy(y_pred,y_valid))\n",
    "        print(loss)"
   ]
  }
 ],
 "metadata": {
  "kernelspec": {
   "display_name": "Python 3",
   "language": "python",
   "name": "python3"
  },
  "language_info": {
   "codemirror_mode": {
    "name": "ipython",
    "version": 3
   },
   "file_extension": ".py",
   "mimetype": "text/x-python",
   "name": "python",
   "nbconvert_exporter": "python",
   "pygments_lexer": "ipython3",
   "version": "3.8.2"
  }
 },
 "nbformat": 4,
 "nbformat_minor": 4
}
