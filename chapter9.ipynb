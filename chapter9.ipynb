{
 "cells": [
  {
   "cell_type": "markdown",
   "metadata": {},
   "source": [
    "### 80. ID番号への変換"
   ]
  },
  {
   "cell_type": "code",
   "execution_count": null,
   "metadata": {},
   "outputs": [],
   "source": [
    "import pandas as pd\n",
    "import numpy as np\n",
    "from sklearn.feature_extraction.text import CountVectorizer"
   ]
  },
  {
   "cell_type": "code",
   "execution_count": null,
   "metadata": {},
   "outputs": [],
   "source": [
    "train = pd.read_csv('data/chap6/train.txt',sep='\\t',header=None)\n",
    "valid = pd.read_csv('data/chap6/valid.txt',sep='\\t',header=None)\n",
    "test = pd.read_csv('data/chap6/test.txt',sep='\\t',header=None)"
   ]
  },
  {
   "cell_type": "code",
   "execution_count": null,
   "metadata": {},
   "outputs": [],
   "source": [
    "vectorizer = CountVectorizer(min_df=2)\n",
    "train_title = train.iloc[:,1].str.lower()\n",
    "cnt = vectorizer.fit_transform(train_title).toarray()\n",
    "sm = cnt.sum(axis=0)\n",
    "idx = np.argsort(sm)[::-1]\n",
    "words = np.array(vectorizer.get_feature_names())[idx]"
   ]
  },
  {
   "cell_type": "code",
   "execution_count": null,
   "metadata": {},
   "outputs": [],
   "source": [
    "train_title = train[1].str.lower()\n",
    "cnt = vectorizer.fit_transform(train_title).toarray()\n",
    "sm = cnt.sum(axis=0)\n",
    "idx = np.argsort(sm)[::-1]\n",
    "words = np.array(vectorizer.get_feature_names())[idx]"
   ]
  },
  {
   "cell_type": "code",
   "execution_count": null,
   "metadata": {},
   "outputs": [],
   "source": [
    "d = dict()\n",
    "for i in range(len(words)):\n",
    "    d[words[i]] = i+1\n",
    "def get_id(sentence):\n",
    "      r = []\n",
    "    for word in sentence:\n",
    "        r.append(d.get(word,0))\n",
    "        return r\n",
    "\n",
    "def df2id(df):\n",
    "    ids = []\n",
    "    for i in df.iloc[:,1].str.lower():\n",
    "        ids.append(get_id(i.split()))\n",
    "    return ids"
   ]
  },
  {
   "cell_type": "code",
   "execution_count": null,
   "metadata": {},
   "outputs": [],
   "source": [
    "X_train = df2id(train)\n",
    "X_valid = df2id(valid)\n",
    "X_test = df2id(test)"
   ]
  },
  {
   "cell_type": "code",
   "execution_count": null,
   "metadata": {},
   "outputs": [],
   "source": []
  }
 ],
 "metadata": {
  "kernelspec": {
   "display_name": "Python 3",
   "language": "python",
   "name": "python3"
  },
  "language_info": {
   "codemirror_mode": {
    "name": "ipython",
    "version": 3
   },
   "file_extension": ".py",
   "mimetype": "text/x-python",
   "name": "python",
   "nbconvert_exporter": "python",
   "pygments_lexer": "ipython3",
   "version": "3.8.2"
  }
 },
 "nbformat": 4,
 "nbformat_minor": 4
}
